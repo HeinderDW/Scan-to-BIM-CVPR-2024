{
 "cells": [
  {
   "cell_type": "markdown",
   "metadata": {},
   "source": [
    "# T1 SEMANTIC SEGMENTATION TRAINING\n",
    "\n",
    "Small example on how to train Pointcept for semantic segmentation"
   ]
  },
  {
   "cell_type": "markdown",
   "metadata": {},
   "source": [
    "## LIBRARIES"
   ]
  },
  {
   "cell_type": "code",
   "execution_count": 9,
   "metadata": {},
   "outputs": [
    {
     "name": "stdout",
     "output_type": "stream",
     "text": [
      "['/home/mbassier/code/Scan-to-BIM-CVPR-2024/scripts/thirdparty/pointcept', '/home/mbassier/code/Scan-to-BIM-CVPR-2024/scripts/scripts', '/home/mbassier/code/Scan-to-BIM-CVPR-2024/scripts', '/home/mbassier/code/Scan-to-BIM-CVPR-2024/scripts/thirdparty/pointcept', '/home/mbassier/code/Scan-to-BIM-CVPR-2024/scripts/scripts', '/home/mbassier/code/Scan-to-BIM-CVPR-2024/scripts', '/home/mbassier/code/Scan-to-BIM-CVPR-2024/scripts', '/home/mbassier/.conda/envs/pointcept/lib/python310.zip', '/home/mbassier/.conda/envs/pointcept/lib/python3.10', '/home/mbassier/.conda/envs/pointcept/lib/python3.10/lib-dynload', '', '/home/mbassier/.local/lib/python3.10/site-packages', '/home/mbassier/.conda/envs/pointcept/lib/python3.10/site-packages', '/home/mbassier/.conda/envs/pointcept/lib/python3.10/site-packages/pointops-1.0-py3.10-linux-x86_64.egg', '/home/mbassier/.conda/envs/pointcept/lib/python3.10/site-packages/pointgroup_ops-0.0.0-py3.10-linux-x86_64.egg', '/home/mbassier/.conda/envs/pointcept/lib/python3.10/site-packages/ifcopenshell/lib/linux/64bit/python3.10']\n"
     ]
    }
   ],
   "source": [
    "#IMPORT PACKAGES\n",
    "from pathlib import Path\n",
    "import os\n",
    "import sys\n",
    "sys.path.insert(0, os.path.abspath(os.path.join('.')))\n",
    "sys.path.insert(0, os.path.abspath(os.path.join('scripts')))\n",
    "sys.path.insert(0, os.path.abspath(os.path.join('thirdparty', 'pointcept')))\n",
    "print(sys.path)\n",
    "import numpy as np\n",
    "import laspy\n",
    "from geomapi.utils import geometryutils as gmu\n",
    "import torch\n",
    "\n",
    "import context \n"
   ]
  },
  {
   "cell_type": "code",
   "execution_count": 3,
   "metadata": {},
   "outputs": [],
   "source": [
    "%load_ext autoreload"
   ]
  },
  {
   "cell_type": "code",
   "execution_count": 4,
   "metadata": {},
   "outputs": [],
   "source": [
    "%autoreload 2"
   ]
  },
  {
   "cell_type": "markdown",
   "metadata": {},
   "source": [
    "## INPUT DATA CONVERSION\n",
    "\n",
    "Preprocessing of input data"
   ]
  },
  {
   "cell_type": "code",
   "execution_count": 7,
   "metadata": {},
   "outputs": [
    {
     "name": "stdout",
     "output_type": "stream",
     "text": [
      "['X', 'Y', 'Z', 'intensity', 'return_number', 'number_of_returns', 'scan_direction_flag', 'edge_of_flight_line', 'classification', 'synthetic', 'key_point', 'withheld', 'scan_angle_rank', 'user_data', 'point_source_id', 'red', 'green', 'blue', 'labels', 'normal_change_rate', 'verticality', 'omnivariance']\n",
      "['X', 'Y', 'Z', 'intensity', 'return_number', 'number_of_returns', 'scan_direction_flag', 'edge_of_flight_line', 'classification', 'synthetic', 'key_point', 'withheld', 'scan_angle_rank', 'user_data', 'point_source_id', 'red', 'green', 'blue', 'labels', 'normal_change_rate', 'verticality', 'omnivariance']\n"
     ]
    }
   ],
   "source": [
    "def handle_process(file_name, output_folder):\n",
    "    \n",
    "    coords = []\n",
    "    scene_id = os.path.basename(file_name)\n",
    "\n",
    "    name, ext = os.path.splitext(scene_id)\n",
    "    \n",
    "    if ext not in  [\".las\", \".laz\"]:\n",
    "        return\n",
    "\n",
    "    # Read LAS/LAZ\n",
    "    # populate dict\n",
    "    las = laspy.read(file_name)\n",
    "    print(list(las.point_format.dimension_names))\n",
    "\n",
    "    pcd = gmu.las_to_pcd(las)\n",
    "    pcd.estimate_normals()\n",
    "    pcd.orient_normals_to_align_with_direction()\n",
    "    \n",
    "    coords = np.stack([las.x, las.y, las.z], axis=1)\n",
    "    colors = np.stack([las.red, las.green, las.blue], axis=1).astype(np.uint8)\n",
    "    normals = np.asarray(pcd.normals)\n",
    "    verticality = np.nan_to_num(las.verticality)\n",
    "    max = np.max(verticality)\n",
    "    verticality = verticality / (max / 2.) - 1.\n",
    "    \n",
    "    save_dict = dict(coord=coords, color=colors, normal=normals, verticality=verticality, scene_id=scene_id, semantic_gt=las.labels.astype(int))\n",
    "\n",
    "    torch.save(save_dict, os.path.join(output_folder, f\"{name}.pth\"))\n",
    "\n",
    "\n",
    "training_las_path = Path(os.getcwd()).parents[0]/'data'/'t1_data_test'/'input'/'train.las'\n",
    "training_output_folder = Path(os.getcwd()).parents[0]/'data'/'t1_data_test'/'train'\n",
    "\n",
    "validation_las_path = Path(os.getcwd()).parents[0]/'data'/'t1_data_test'/'input'/'val.las'\n",
    "validation_output_folder = Path(os.getcwd()).parents[0]/'data'/'t1_data_test'/'val'\n",
    "\n",
    "os.makedirs(training_output_folder, exist_ok=True)\n",
    "os.makedirs(validation_output_folder, exist_ok=True)\n",
    "\n",
    "handle_process(training_las_path, training_output_folder)\n",
    "handle_process(validation_las_path, validation_output_folder)"
   ]
  },
  {
   "cell_type": "code",
   "execution_count": 6,
   "metadata": {},
   "outputs": [
    {
     "name": "stdout",
     "output_type": "stream",
     "text": [
      "/home/mbassier/code/Scan-to-BIM-CVPR-2024/data/t1_data/input/train.las\n"
     ]
    }
   ],
   "source": [
    "print(Path(os.getcwd()).parents[0]/'data'/'t1_data_test'/'input'/'train.las')"
   ]
  },
  {
   "cell_type": "markdown",
   "metadata": {},
   "source": [
    "## TRAINING\n",
    "\n",
    "Training using Point Transformer V3"
   ]
  },
  {
   "cell_type": "code",
   "execution_count": 10,
   "metadata": {},
   "outputs": [
    {
     "ename": "ModuleNotFoundError",
     "evalue": "No module named 'pointcept'",
     "output_type": "error",
     "traceback": [
      "\u001b[0;31m---------------------------------------------------------------------------\u001b[0m",
      "\u001b[0;31mModuleNotFoundError\u001b[0m                       Traceback (most recent call last)",
      "Cell \u001b[0;32mIn[10], line 1\u001b[0m\n\u001b[0;32m----> 1\u001b[0m \u001b[38;5;28;01mfrom\u001b[39;00m \u001b[38;5;21;01mpointcept\u001b[39;00m\u001b[38;5;21;01m.\u001b[39;00m\u001b[38;5;21;01mengines\u001b[39;00m\u001b[38;5;21;01m.\u001b[39;00m\u001b[38;5;21;01mdefaults\u001b[39;00m \u001b[38;5;28;01mimport\u001b[39;00m (\n\u001b[1;32m      2\u001b[0m     default_argument_parser,\n\u001b[1;32m      3\u001b[0m     default_config_parser,\n\u001b[1;32m      4\u001b[0m     default_setup,\n\u001b[1;32m      5\u001b[0m )\n\u001b[1;32m      6\u001b[0m \u001b[38;5;28;01mfrom\u001b[39;00m \u001b[38;5;21;01mpointcept\u001b[39;00m\u001b[38;5;21;01m.\u001b[39;00m\u001b[38;5;21;01mengines\u001b[39;00m\u001b[38;5;21;01m.\u001b[39;00m\u001b[38;5;21;01mtrain\u001b[39;00m \u001b[38;5;28;01mimport\u001b[39;00m TRAINERS\n\u001b[1;32m      7\u001b[0m \u001b[38;5;28;01mfrom\u001b[39;00m \u001b[38;5;21;01mpointcept\u001b[39;00m\u001b[38;5;21;01m.\u001b[39;00m\u001b[38;5;21;01mengines\u001b[39;00m\u001b[38;5;21;01m.\u001b[39;00m\u001b[38;5;21;01mlaunch\u001b[39;00m \u001b[38;5;28;01mimport\u001b[39;00m launch\n",
      "\u001b[0;31mModuleNotFoundError\u001b[0m: No module named 'pointcept'"
     ]
    }
   ],
   "source": [
    "from pointcept.engines.defaults import (\n",
    "    default_argument_parser,\n",
    "    default_config_parser,\n",
    "    default_setup,\n",
    ")\n",
    "from pointcept.engines.train import TRAINERS\n",
    "from pointcept.engines.launch import launch\n",
    "\n",
    "\n",
    "def main_worker(cfg):\n",
    "    cfg = default_setup(cfg)\n",
    "    trainer = TRAINERS.build(dict(type=cfg.train.type, cfg=cfg))\n",
    "    trainer.train()\n",
    "\n",
    "config_path = Path(os.getcwd()).parents[0]/'data'/'t1_data_test'/'config.py' #Path(os.getcwd())/'data'/'t1_data'/'config.py'\n",
    "save_path = Path(os.getcwd()).parents[0]/'data'/'t1_data_test' #Path(os.getcwd())/'data'/'t1_data'\n",
    "weights = Path(os.getcwd()).parents[0]/'data'/'t1_data_test'/'model'/'model_best.pth' #Path(os.getcwd())/'data'/'t1_data'/'model'/'model_best.pth'\n",
    "\n",
    "cfg = default_config_parser(str(config_path), {'save_path': str(save_path), 'weight': str(weights)})\n",
    "\n",
    "launch(\n",
    "    main_worker,\n",
    "    num_gpus_per_machine=1,\n",
    "    num_machines=1,\n",
    "    machine_rank=0,\n",
    "    dist_url='auto',\n",
    "    cfg=(cfg,),\n",
    ")"
   ]
  }
 ],
 "metadata": {
  "kernelspec": {
   "display_name": "pointcept",
   "language": "python",
   "name": "python3"
  },
  "language_info": {
   "codemirror_mode": {
    "name": "ipython",
    "version": 3
   },
   "file_extension": ".py",
   "mimetype": "text/x-python",
   "name": "python",
   "nbconvert_exporter": "python",
   "pygments_lexer": "ipython3",
   "version": "3.10.14"
  },
  "orig_nbformat": 3
 },
 "nbformat": 4,
 "nbformat_minor": 2
}
