{
 "cells": [
  {
   "cell_type": "markdown",
   "metadata": {},
   "source": [
    "# T2.0 INSTANCE SEGMENTATION\n",
    "\n",
    "In this script, we will segment individual instances of floors, ceilings, walls, columns and doors. \n",
    "To this end, we modify oneformer3D repo (https://github.com/oneformer3d/oneformer3d)"
   ]
  },
  {
   "cell_type": "markdown",
   "metadata": {},
   "source": [
    "## Steps to get OneFormer3D running"
   ]
  },
  {
   "cell_type": "markdown",
   "metadata": {},
   "source": [
    "The environment is installed in a docker. \n",
    "\n",
    "- We install windows WSL in terminal to get access to Windows Subsystem for Linux (wsl --install)\n",
    "- WSL2 is our default, with an Ubuntu installation\n",
    "- We install docker (https://docs.docker.com/desktop/install/windows-install/). this serves a similar function as Anaconda but has entire containers\n",
    "- We install docker extension in VS Code\n",
    "- we intalled WSL extension in VS Code\n",
    "\n",
    "- Open VS CODE, and connect to WSL as you would to a Server (bottom left corner)\n",
    "\n"
   ]
  },
  {
   "cell_type": "markdown",
   "metadata": {},
   "source": [
    "## LIBRARIES"
   ]
  },
  {
   "cell_type": "code",
   "execution_count": 1,
   "metadata": {},
   "outputs": [
    {
     "name": "stdout",
     "output_type": "stream",
     "text": [
      "Jupyter environment detected. Enabling Open3D WebVisualizer.\n",
      "[Open3D INFO] WebRTC GUI backend enabled.\n",
      "[Open3D INFO] WebRTCWindowSystem: HTTP handshake server disabled.\n"
     ]
    }
   ],
   "source": [
    "#IMPORT PACKAGES\n",
    "from rdflib import Graph, URIRef\n",
    "import os.path\n",
    "import importlib\n",
    "from pathlib import Path\n",
    "import numpy as np\n",
    "import xml.etree.ElementTree as ET\n",
    "import open3d as o3d\n",
    "import uuid    \n",
    "import pye57 \n",
    "import ifcopenshell\n",
    "import ifcopenshell.geom as geom\n",
    "import ifcopenshell.util\n",
    "from ifcopenshell.util.selector import Selector\n",
    "import multiprocessing\n",
    "import random as rd\n",
    "import pandas as pd\n",
    "# from tabulate import tabulate\n",
    "import cv2\n",
    "import laspy\n",
    "\n",
    "import geomapi\n",
    "from geomapi.nodes import *\n",
    "import geomapi.utils as ut\n",
    "from geomapi.utils import geometryutils as gmu\n",
    "import geomapi.tools as tl\n",
    "\n",
    "#import utils\n",
    "from context import utils\n",
    "import utils as utl\n",
    "import utils.t1_utils as t1\n"
   ]
  },
  {
   "cell_type": "code",
   "execution_count": 2,
   "metadata": {},
   "outputs": [],
   "source": [
    "%load_ext autoreload"
   ]
  },
  {
   "cell_type": "code",
   "execution_count": 3,
   "metadata": {},
   "outputs": [],
   "source": [
    "%autoreload 2"
   ]
  },
  {
   "cell_type": "markdown",
   "metadata": {},
   "source": [
    "## INPUTS"
   ]
  },
  {
   "cell_type": "code",
   "execution_count": 4,
   "metadata": {},
   "outputs": [],
   "source": [
    "pcdPathLas=Path(os.getcwd()).parents[1]/'data'/'steel.las'\n",
    "pcdPathLaz=Path(os.getcwd()).parents[1]/'data'/'steel.laz'"
   ]
  },
  {
   "cell_type": "markdown",
   "metadata": {},
   "source": [
    "### IMPORT PCD"
   ]
  },
  {
   "cell_type": "code",
   "execution_count": 3,
   "metadata": {},
   "outputs": [],
   "source": [
    "laz  = laspy.read(pcdPathLaz)\n",
    "pcd=gmu.las_to_pcd(laz)\n",
    "pcdNode=PointCloudNode(resource=pcd)"
   ]
  },
  {
   "cell_type": "code",
   "execution_count": 22,
   "metadata": {},
   "outputs": [
    {
     "name": "stdout",
     "output_type": "stream",
     "text": [
      "4073605\n"
     ]
    }
   ],
   "source": [
    "print(len(laz.xyz))\n",
    "o3d.visualization.draw_geometries([pcd])"
   ]
  },
  {
   "cell_type": "markdown",
   "metadata": {},
   "source": [
    "### import entire folder of PCD's"
   ]
  },
  {
   "cell_type": "code",
   "execution_count": 8,
   "metadata": {},
   "outputs": [
    {
     "name": "stdout",
     "output_type": "stream",
     "text": [
      "imported c:/Users/Maarten/OneDrive - KU Leuven/2024-05 CVPR scan-to-BIM challenge/data/E003.laz\n",
      "imported c:/Users/Maarten/OneDrive - KU Leuven/2024-05 CVPR scan-to-BIM challenge/data/steel.laz\n",
      "Imported 2 point clouds.\n"
     ]
    }
   ],
   "source": [
    "files=ut.get_list_of_files(Path(os.getcwd()).parents[1]/'data')\n",
    "\n",
    "# note that this will start to show memory issues if you load all pcd's at once\n",
    "# reading 5 million points takes 30s\n",
    "pcdNodes=[]\n",
    "for f in files:\n",
    "    if f.endswith('laz'):\n",
    "        laz  = laspy.read(pcdPathLaz)\n",
    "        pcdNodes.append(PointCloudNode(resource=gmu.las_to_pcd(laz), name=ut.get_filename(f)))\n",
    "        print(f'imported {f}')\n",
    "\n",
    "print(f'Imported {len(pcdNodes)} point clouds.')"
   ]
  },
  {
   "cell_type": "markdown",
   "metadata": {},
   "source": []
  }
 ],
 "metadata": {
  "kernelspec": {
   "display_name": "geomapi_installed",
   "language": "python",
   "name": "python3"
  },
  "language_info": {
   "codemirror_mode": {
    "name": "ipython",
    "version": 3
   },
   "file_extension": ".py",
   "mimetype": "text/x-python",
   "name": "python",
   "nbconvert_exporter": "python",
   "pygments_lexer": "ipython3",
   "version": "3.10.13"
  }
 },
 "nbformat": 4,
 "nbformat_minor": 2
}
