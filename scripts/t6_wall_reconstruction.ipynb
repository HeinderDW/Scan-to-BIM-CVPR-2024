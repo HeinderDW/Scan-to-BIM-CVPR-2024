{
 "cells": [
  {
   "cell_type": "markdown",
   "metadata": {},
   "source": [
    "# T6. WALL RECONSTRUCTION\n",
    "\n",
    "In this script, we reconstruct parametric wall geometries from the instance segmentation and reference heights.\n",
    "Specifically, we need:\n",
    " - T2: instances of walls, ceilings and other objects\n",
    " - T5: reference levels"
   ]
  },
  {
   "cell_type": "markdown",
   "metadata": {},
   "source": [
    "## LIBRARIES"
   ]
  },
  {
   "cell_type": "code",
   "execution_count": 7,
   "metadata": {},
   "outputs": [],
   "source": [
    "#IMPORT PACKAGES\n",
    "from rdflib import Graph, URIRef\n",
    "import os.path\n",
    "import importlib\n",
    "from pathlib import Path\n",
    "import numpy as np\n",
    "import xml.etree.ElementTree as ET\n",
    "import open3d as o3d\n",
    "import uuid    \n",
    "import pye57 \n",
    "import ifcopenshell\n",
    "import ifcopenshell.geom as geom\n",
    "import ifcopenshell.util\n",
    "from ifcopenshell.util.selector import Selector\n",
    "import multiprocessing\n",
    "import random as rd\n",
    "import pandas as pd\n",
    "# from tabulate import tabulate\n",
    "import cv2\n",
    "import laspy\n",
    "import json\n",
    "from scipy.spatial.transform import Rotation   \n",
    "import copy\n",
    "import geomapi\n",
    "from geomapi.nodes import *\n",
    "import geomapi.utils as ut\n",
    "from geomapi.utils import geometryutils as gmu\n",
    "import geomapi.tools as tl\n",
    "\n",
    "#import utils\n",
    "from context import utils\n",
    "import utils as utl\n",
    "import utils.t1_utils as t1\n"
   ]
  },
  {
   "cell_type": "code",
   "execution_count": 3,
   "metadata": {},
   "outputs": [],
   "source": [
    "%load_ext autoreload"
   ]
  },
  {
   "cell_type": "code",
   "execution_count": 4,
   "metadata": {},
   "outputs": [],
   "source": [
    "%autoreload 2"
   ]
  },
  {
   "cell_type": "markdown",
   "metadata": {},
   "source": [
    "## INPUTS"
   ]
  },
  {
   "cell_type": "code",
   "execution_count": 5,
   "metadata": {},
   "outputs": [],
   "source": [
    "name='beton_labels'\n",
    "\n",
    "#point clouds\n",
    "path=Path(os.getcwd()).parents[2]/'data'\n",
    "pcd_input_path=os.path.join(path,f'{name}.laz')\n",
    "class_file=path/'_classes.json'\n",
    "\n",
    "#reference levels\n",
    "path_reference_levels=os.path.join(path,f'{name}.laz') #eigenlijk zou dit een graph met BIM elementen moeten zijn!\n",
    "\n",
    "#output\n",
    "name=name.split('_')[0]\n",
    "json_output_path=os.path.join(path,f'{name}_walls.json') \n",
    "geometry_output_path= os.path.join(path,f'{name}_walls.obj') # these are the bounding surfaces of the reference levels (optional)\n"
   ]
  },
  {
   "cell_type": "markdown",
   "metadata": {},
   "source": [
    "Import Classes"
   ]
  },
  {
   "cell_type": "code",
   "execution_count": 8,
   "metadata": {},
   "outputs": [
    {
     "name": "stdout",
     "output_type": "stream",
     "text": [
      "{'classes': [{'name': 'Unassigned', 'id': 255, 'temp_id': -1, 'color': '#9da2ab'}, {'name': 'Floors', 'id': 0, 'temp_id': 0, 'color': '#03c2fc'}, {'name': 'Ceilings', 'id': 1, 'temp_id': 1, 'color': '#e81416'}, {'name': 'Walls', 'id': 2, 'temp_id': 2, 'color': '#ffa500'}, {'name': 'Columns', 'id': 3, 'temp_id': 3, 'color': '#faeb36'}, {'name': 'Doors', 'id': 4, 'temp_id': 4, 'color': '#79c314'}, {'name': 'Windows', 'id': 5, 'temp_id': 5, 'color': '#4b369d'}], 'default': 255, 'type': 'semantic_segmentation', 'format': 'kitti', 'created_with': {'name': 'Saiga', 'version': '1.0.1'}}\n"
     ]
    }
   ],
   "source": [
    "# Read the JSON file\n",
    "with open(class_file, 'r') as file:\n",
    "    json_data = json.load(file)\n",
    "\n",
    "# Create a dictionary\n",
    "class_dict = {\n",
    "    'classes': json_data['classes'],\n",
    "    'default': json_data['default'],\n",
    "    'type': json_data['type'],\n",
    "    'format': json_data['format'],\n",
    "    'created_with': json_data['created_with']\n",
    "}\n",
    "print(class_dict)"
   ]
  },
  {
   "cell_type": "markdown",
   "metadata": {},
   "source": [
    "Import PCD"
   ]
  },
  {
   "cell_type": "code",
   "execution_count": 10,
   "metadata": {},
   "outputs": [],
   "source": [
    "laz=laspy.read(pcd_input_path)"
   ]
  },
  {
   "cell_type": "code",
   "execution_count": 11,
   "metadata": {},
   "outputs": [
    {
     "name": "stdout",
     "output_type": "stream",
     "text": [
      "85 pcdNodes created!\n"
     ]
    }
   ],
   "source": [
    "pcdNodes=[]\n",
    "#split pcd per object\n",
    "for i in np.unique(laz['classes']):\n",
    "    idx=np.where(laz['classes']==i)\n",
    "    points=laz.xyz[idx]\n",
    "    # colors=np.array([laz.red[idx],laz.green[idx],laz.blue[idx]])\n",
    "    object_labels=laz['objects'][idx]\n",
    "\n",
    "    class_obj=next((class_obj for class_obj in json_data['classes'] if float(class_obj['id']) ==i), json_data['classes'][0])\n",
    "    class_name=class_obj['name']\n",
    "\n",
    "    # pcd.colors=o3d.utility.Vector3dVector(colors)\n",
    "    for j in np.unique(object_labels):\n",
    "        \n",
    "        new_points=points[np.where(object_labels==j)]\n",
    "        if new_points.shape[0]>100:\n",
    "            pcd=o3d.geometry.PointCloud()\n",
    "            pcd.points=o3d.utility.Vector3dVector(new_points)\n",
    "\n",
    "            pcdNodes.append(PointCloudNode(resource=pcd,\n",
    "                                        class_id=i,\n",
    "                                        object_id=j,\n",
    "                                        color=ut.random_color(),\n",
    "                                            name=class_name+f'_{j}'))\n",
    "                                            \n",
    "\n",
    "print(f'{len(pcdNodes)} pcdNodes created!')"
   ]
  },
  {
   "cell_type": "code",
   "execution_count": 18,
   "metadata": {},
   "outputs": [],
   "source": [
    "joined_pcd=gmu.join_geometries([n.resource.paint_uniform_color(n.color) for n in pcdNodes if n.resource is not None])\n",
    "for n in pcdNodes:\n",
    "    n.orientedBoundingBox.color=[1,0,0]\n",
    "o3d.visualization.draw_geometries([joined_pcd]+[n.orientedBoundingBox for n in pcdNodes])"
   ]
  },
  {
   "cell_type": "markdown",
   "metadata": {},
   "source": [
    "Import Reference Levels"
   ]
  },
  {
   "cell_type": "code",
   "execution_count": null,
   "metadata": {},
   "outputs": [],
   "source": [
    "# Read the JSON file\n",
    "with open(class_file, 'r') as file:\n",
    "    json_data = json.load(file)\n",
    "\n",
    "# Create a dictionary\n",
    "class_dict = {\n",
    "    'classes': json_data['classes'],\n",
    "    'default': json_data['default'],\n",
    "}\n",
    "print(class_dict)"
   ]
  },
  {
   "cell_type": "markdown",
   "metadata": {},
   "source": [
    "## PROCESSING"
   ]
  },
  {
   "cell_type": "markdown",
   "metadata": {},
   "source": [
    "Group wall point clouds"
   ]
  },
  {
   "cell_type": "code",
   "execution_count": 13,
   "metadata": {},
   "outputs": [
    {
     "name": "stdout",
     "output_type": "stream",
     "text": [
      "29 wallNodes detected!\n",
      " Walls_43 with OrientedBoundingBox: center: (103775, 194659, 10.839), extent: 6.40747, 4.51928, 0.112993)\n",
      " Walls_44 with OrientedBoundingBox: center: (103780, 194669, 10.8062), extent: 3.25802, 1.29767, 0.28708)\n",
      " Walls_45 with OrientedBoundingBox: center: (103783, 194650, 12.2318), extent: 1.03244, 1.0688, 0.398084)\n",
      " Walls_46 with OrientedBoundingBox: center: (103780, 194662, 9.99442), extent: 1.69711, 0.972581, 0.181228)\n",
      " Walls_47 with OrientedBoundingBox: center: (103782, 194664, 10.1222), extent: 5.5569, 2.05446, 0.182938)\n",
      " Walls_48 with OrientedBoundingBox: center: (103785, 194673, 10.9278), extent: 3.06104, 1.51662, 0.206393)\n",
      " Walls_49 with OrientedBoundingBox: center: (103788, 194676, 11.4535), extent: 4.09731, 1.99854, 0.280056)\n",
      " Walls_50 with OrientedBoundingBox: center: (103790, 194671, 11.3065), extent: 5.00131, 4.64374, 0.179296)\n",
      " Walls_51 with OrientedBoundingBox: center: (103788, 194668, 10.3593), extent: 2.59311, 1.66859, 0.198308)\n",
      " Walls_52 with OrientedBoundingBox: center: (103789, 194668, 11.3903), extent: 11.4432, 4.59308, 0.238691)\n",
      " Walls_53 with OrientedBoundingBox: center: (103798, 194664, 11.2266), extent: 1.10386, 1.78512, 0.228631)\n",
      " Walls_54 with OrientedBoundingBox: center: (103795, 194662, 10.6795), extent: 2.81594, 1.22955, 0.531683)\n",
      " Walls_55 with OrientedBoundingBox: center: (103792, 194659, 10.5684), extent: 2.65368, 1.23219, 0.601865)\n",
      " Walls_56 with OrientedBoundingBox: center: (103794, 194663, 10.6155), extent: 2.99765, 1.81513, 0.239287)\n",
      " Walls_57 with OrientedBoundingBox: center: (103792, 194662, 10.3821), extent: 2.91961, 2.61929, 0.212708)\n",
      " Walls_58 with OrientedBoundingBox: center: (103790, 194660, 10.3705), extent: 2.55327, 2.08697, 0.209893)\n",
      " Walls_59 with OrientedBoundingBox: center: (103793, 194670, 11.3757), extent: 13.5658, 5.00942, 0.293142)\n",
      " Walls_60 with OrientedBoundingBox: center: (103784, 194652, 10.6721), extent: 2.83971, 1.24093, 0.670667)\n",
      " Walls_61 with OrientedBoundingBox: center: (103783, 194651, 11.7696), extent: 1.66427, 0.180923, 0.0799865)\n",
      " Walls_62 with OrientedBoundingBox: center: (103779, 194659, 10.8506), extent: 3.89095, 3.50458, 0.300072)\n",
      " Walls_63 with OrientedBoundingBox: center: (103779, 194660, 10.5506), extent: 3.32513, 2.79467, 0.272877)\n",
      " Walls_64 with OrientedBoundingBox: center: (103778, 194662, 10.3893), extent: 2.42742, 1.13341, 0.0784579)\n",
      " Walls_65 with OrientedBoundingBox: center: (103777, 194662, 10.8362), extent: 3.44258, 2.14382, 0.101886)\n",
      " Walls_66 with OrientedBoundingBox: center: (103780, 194660, 11.6532), extent: 11.5658, 4.93069, 0.238093)\n",
      " Walls_67 with OrientedBoundingBox: center: (103788, 194659, 11.8421), extent: 14.783, 4.82943, 0.219901)\n",
      " Walls_68 with OrientedBoundingBox: center: (103786, 194670, 10.3733), extent: 4.81087, 2.50107, 0.19858)\n",
      " Walls_69 with OrientedBoundingBox: center: (103782, 194669, 11.3982), extent: 19.499, 4.51649, 0.373303)\n",
      " Walls_70 with OrientedBoundingBox: center: (103779, 194658, 11.4122), extent: 15.5384, 4.52749, 0.452843)\n",
      " Walls_71 with OrientedBoundingBox: center: (103791, 194659, 11.1247), extent: 19.2652, 4.46816, 0.760335)\n"
     ]
    }
   ],
   "source": [
    "#retrieve floor points\n",
    "wallNodes=[n for n in pcdNodes if n.class_id ==2]\n",
    "print(f'{len(wallNodes)} wallNodes detected!')\n",
    "for n in wallNodes:\n",
    "    print(f' {n.name} with {n.orientedBoundingBox}')\n"
   ]
  },
  {
   "cell_type": "markdown",
   "metadata": {},
   "source": [
    "Compute vertical bounding boxes"
   ]
  },
  {
   "cell_type": "code",
   "execution_count": 24,
   "metadata": {},
   "outputs": [
    {
     "name": "stdout",
     "output_type": "stream",
     "text": [
      "[[1.03772017e+05 1.94662045e+05 1.21749940e+01]\n",
      " [1.03776183e+05 1.94657479e+05 1.38630421e+01]\n",
      " [1.03772803e+05 1.94661150e+05 7.81542144e+00]\n",
      " [1.03772101e+05 1.94662121e+05 1.21744497e+01]\n",
      " [1.03777052e+05 1.94656660e+05 9.50292534e+00]\n",
      " [1.03772887e+05 1.94661226e+05 7.81487718e+00]\n",
      " [1.03776267e+05 1.94657555e+05 1.38624979e+01]\n",
      " [1.03776969e+05 1.94656584e+05 9.50346959e+00]]\n"
     ]
    },
    {
     "ename": "NameError",
     "evalue": "name 'referenceNodes' is not defined",
     "output_type": "error",
     "traceback": [
      "\u001b[1;31m---------------------------------------------------------------------------\u001b[0m",
      "\u001b[1;31mNameError\u001b[0m                                 Traceback (most recent call last)",
      "Cell \u001b[1;32mIn[24], line 10\u001b[0m\n\u001b[0;32m      8\u001b[0m \u001b[38;5;66;03m#compute base constraint (nearby reference level or minHeight)\u001b[39;00m\n\u001b[0;32m      9\u001b[0m minheight\u001b[38;5;241m=\u001b[39m np\u001b[38;5;241m.\u001b[39mmin(n\u001b[38;5;241m.\u001b[39m_orientedBounds[:,\u001b[38;5;241m2\u001b[39m]) \n\u001b[1;32m---> 10\u001b[0m nearby_ref_levels\u001b[38;5;241m=\u001b[39m tl\u001b[38;5;241m.\u001b[39mselect_nodes_with_intersecting_bounding_box(n,\u001b[43mreferenceNodes\u001b[49m)\n\u001b[0;32m     12\u001b[0m n\u001b[38;5;241m.\u001b[39mbase_constraint\u001b[38;5;241m=\u001b[39m \u001b[38;5;28mnext\u001b[39m(n\u001b[38;5;241m.\u001b[39mname \u001b[38;5;28;01mfor\u001b[39;00m n \u001b[38;5;129;01min\u001b[39;00m nearby_ref_levels)  \u001b[38;5;28;01mif\u001b[39;00m nearby_ref_levels \u001b[38;5;28;01melse\u001b[39;00m referenceNodes[\u001b[38;5;241m0\u001b[39m]\n\u001b[0;32m     13\u001b[0m n\u001b[38;5;241m.\u001b[39mbase_offset\u001b[38;5;241m=\u001b[39mminheight\u001b[38;5;241m-\u001b[39mn\u001b[38;5;241m.\u001b[39mbase_constraint\u001b[38;5;241m.\u001b[39mheight\n",
      "\u001b[1;31mNameError\u001b[0m: name 'referenceNodes' is not defined"
     ]
    }
   ],
   "source": [
    "for n in wallNodes:\n",
    "\n",
    "    box=n.orientedBoundingBox\n",
    "\n",
    "    points=n._orientedBounds\n",
    "    print(points)\n",
    "\n",
    "    #compute base constraint (nearby reference level or minHeight)\n",
    "    minheight= np.min(n._orientedBounds[:,2]) \n",
    "    nearby_ref_levels= tl.select_nodes_with_intersecting_bounding_box(n,referenceNodes)\n",
    "    \n",
    "    n.base_constraint= next(n.name for n in nearby_ref_levels)  if nearby_ref_levels else referenceNodes[0]\n",
    "    n.base_offset=minheight-n.base_constraint.height\n",
    "    print(n.base_constraint,n.base_offset)\n",
    "\n",
    "    #compute top constraint\n",
    "    maxHeight= np.min(n._orientedBounds[:,2])# nearby reference or ceiling level>t_max or maxHeight\n",
    "\n",
    "    # minPoints= np.hstack((n._orientedBounds[:,0:2],n.\n",
    "    # maxPoints\n",
    "\n",
    "    # points=np.vstack((minPoints,maxPoints))\n",
    "\n",
    "\n",
    "    # print(points)\n",
    "    break"
   ]
  },
  {
   "cell_type": "code",
   "execution_count": 16,
   "metadata": {},
   "outputs": [],
   "source": [
    "joined_pcd=gmu.join_geometries([n.resource.paint_uniform_color(n.color) for n in wallNodes if n.resource is not None])\n",
    "o3d.visualization.draw_geometries([joined_pcd]+[n.orientedBoundingBox for n in wallNodes])"
   ]
  },
  {
   "cell_type": "markdown",
   "metadata": {},
   "source": [
    "Split doubleWallNodes from DoubleWallNodes"
   ]
  },
  {
   "cell_type": "code",
   "execution_count": null,
   "metadata": {},
   "outputs": [],
   "source": [
    "singleWallNodes=[]\n",
    "doubleWallNodes="
   ]
  }
 ],
 "metadata": {
  "kernelspec": {
   "display_name": "geomapi_installed",
   "language": "python",
   "name": "python3"
  },
  "language_info": {
   "codemirror_mode": {
    "name": "ipython",
    "version": 3
   },
   "file_extension": ".py",
   "mimetype": "text/x-python",
   "name": "python",
   "nbconvert_exporter": "python",
   "pygments_lexer": "ipython3",
   "version": "3.10.13"
  }
 },
 "nbformat": 4,
 "nbformat_minor": 2
}
