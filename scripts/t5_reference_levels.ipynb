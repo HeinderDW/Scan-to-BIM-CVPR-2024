{
 "cells": [
  {
   "cell_type": "markdown",
   "metadata": {},
   "source": [
    "# T5. REFERENCE LEVELS\n",
    "\n",
    "In this notebook, we extract the reference levels from the t1_semantic segmentation/ t2_instance segmentation"
   ]
  },
  {
   "cell_type": "markdown",
   "metadata": {},
   "source": [
    "## LIBRARIES"
   ]
  },
  {
   "cell_type": "code",
   "execution_count": 60,
   "metadata": {},
   "outputs": [],
   "source": [
    "#IMPORT PACKAGES\n",
    "from rdflib import Graph, URIRef\n",
    "import os.path\n",
    "import importlib\n",
    "from pathlib import Path\n",
    "import numpy as np\n",
    "import xml.etree.ElementTree as ET\n",
    "import open3d as o3d\n",
    "import uuid    \n",
    "import pye57 \n",
    "import ifcopenshell\n",
    "import ifcopenshell.geom as geom\n",
    "import ifcopenshell.util\n",
    "from ifcopenshell.util.selector import Selector\n",
    "import multiprocessing\n",
    "import random as rd\n",
    "import pandas as pd\n",
    "# from tabulate import tabulate\n",
    "import cv2\n",
    "import laspy\n",
    "import json\n",
    "\n",
    "import geomapi\n",
    "from geomapi.nodes import *\n",
    "import geomapi.utils as ut\n",
    "from geomapi.utils import geometryutils as gmu\n",
    "import geomapi.tools as tl\n",
    "\n",
    "#import utils\n",
    "from context import utils\n",
    "import utils as utl\n",
    "import utils.t1_utils as t1\n"
   ]
  },
  {
   "cell_type": "code",
   "execution_count": 61,
   "metadata": {},
   "outputs": [
    {
     "name": "stdout",
     "output_type": "stream",
     "text": [
      "The autoreload extension is already loaded. To reload it, use:\n",
      "  %reload_ext autoreload\n"
     ]
    }
   ],
   "source": [
    "%load_ext autoreload"
   ]
  },
  {
   "cell_type": "code",
   "execution_count": 62,
   "metadata": {},
   "outputs": [],
   "source": [
    "%autoreload 2"
   ]
  },
  {
   "cell_type": "markdown",
   "metadata": {},
   "source": [
    "## INPUTS"
   ]
  },
  {
   "cell_type": "code",
   "execution_count": 152,
   "metadata": {},
   "outputs": [],
   "source": [
    "name='e003_labels'\n",
    "\n",
    "path=Path(os.getcwd()).parents[2]/'data'\n",
    "pcd_input_path=os.path.join(path,f'{name}.laz')\n",
    "class_file=path/'_classes.json'\n",
    "\n",
    "name=name.split('_')[0]\n",
    "json_output_path=os.path.join(path,f'{name}_levels.json') \n",
    "geometry_output_path= os.path.join(path,f'{name}_levels.obj') # these are the bounding surfaces of the reference levels (optional)\n"
   ]
  },
  {
   "cell_type": "markdown",
   "metadata": {},
   "source": [
    "Import Classes"
   ]
  },
  {
   "cell_type": "code",
   "execution_count": 64,
   "metadata": {},
   "outputs": [
    {
     "name": "stdout",
     "output_type": "stream",
     "text": [
      "{'classes': [{'name': 'Unassigned', 'id': 255, 'temp_id': -1, 'color': '#9da2ab'}, {'name': 'Floors', 'id': 0, 'temp_id': 0, 'color': '#03c2fc'}, {'name': 'Ceilings', 'id': 1, 'temp_id': 1, 'color': '#e81416'}, {'name': 'Walls', 'id': 2, 'temp_id': 2, 'color': '#ffa500'}, {'name': 'Columns', 'id': 3, 'temp_id': 3, 'color': '#faeb36'}, {'name': 'Doors', 'id': 4, 'temp_id': 4, 'color': '#79c314'}, {'name': 'Windows', 'id': 5, 'temp_id': 5, 'color': '#4b369d'}], 'default': 255, 'type': 'semantic_segmentation', 'format': 'kitti', 'created_with': {'name': 'Saiga', 'version': '1.0.1'}}\n"
     ]
    }
   ],
   "source": [
    "# Read the JSON file\n",
    "with open(class_file, 'r') as file:\n",
    "    json_data = json.load(file)\n",
    "\n",
    "# Create a dictionary\n",
    "class_dict = {\n",
    "    'classes': json_data['classes'],\n",
    "    'default': json_data['default'],\n",
    "    'type': json_data['type'],\n",
    "    'format': json_data['format'],\n",
    "    'created_with': json_data['created_with']\n",
    "}\n",
    "print(class_dict)"
   ]
  },
  {
   "cell_type": "markdown",
   "metadata": {},
   "source": [
    "Import PCD"
   ]
  },
  {
   "cell_type": "code",
   "execution_count": 69,
   "metadata": {},
   "outputs": [
    {
     "name": "stdout",
     "output_type": "stream",
     "text": [
      "48 pcdNodes created!\n"
     ]
    }
   ],
   "source": [
    "pcdNodes=[]\n",
    "#split pcd per object\n",
    "for i in np.unique(laz['classes']):\n",
    "    idx=np.where(laz['classes']==i)\n",
    "    points=laz.xyz[idx]\n",
    "    # colors=np.array([laz.red[idx],laz.green[idx],laz.blue[idx]])\n",
    "    object_labels=laz['objects'][idx]\n",
    "\n",
    "    class_obj=next((class_obj for class_obj in json_data['classes'] if float(class_obj['id']) ==i), json_data['classes'][0])\n",
    "    class_name=class_obj['name']\n",
    "\n",
    "    # pcd.colors=o3d.utility.Vector3dVector(colors)\n",
    "    for j in np.unique(object_labels):\n",
    "        \n",
    "        new_points=points[np.where(object_labels==j)]\n",
    "        if new_points.shape[0]>100:\n",
    "            pcd=o3d.geometry.PointCloud()\n",
    "            pcd.points=o3d.utility.Vector3dVector(new_points)\n",
    "\n",
    "            pcdNodes.append(PointCloudNode(resource=pcd,\n",
    "                                        class_id=i,\n",
    "                                        object_id=j,\n",
    "                                        color=ut.random_color(),\n",
    "                                            name=class_name+f'_{j}'))\n",
    "\n",
    "print(f'{len(pcdNodes)} pcdNodes created!')"
   ]
  },
  {
   "cell_type": "code",
   "execution_count": 70,
   "metadata": {},
   "outputs": [],
   "source": [
    "joined_pcd=gmu.join_geometries([n.resource.paint_uniform_color(n.color) for n in pcdNodes if n.resource is not None])\n",
    "o3d.visualization.draw_geometries([joined_pcd])"
   ]
  },
  {
   "cell_type": "markdown",
   "metadata": {},
   "source": [
    "## PROCESSING"
   ]
  },
  {
   "cell_type": "markdown",
   "metadata": {},
   "source": [
    "Group floor point clouds"
   ]
  },
  {
   "cell_type": "code",
   "execution_count": 86,
   "metadata": {},
   "outputs": [
    {
     "name": "stdout",
     "output_type": "stream",
     "text": [
      "5 floorNodes detected!\n",
      " Floors_1  with OrientedBoundingBox: center: (5.84162, 1.7628, -1.50459), extent: 11.4926, 5.16798, 0.0574506)\n",
      " Floors_2  with OrientedBoundingBox: center: (-3.22753, -5.63086, -1.54735), extent: 5.24738, 2.18948, 0.0974616)\n",
      " Floors_3  with OrientedBoundingBox: center: (-0.815858, -6.50324, -1.64959), extent: 3.02764, 1.11434, 0.119771)\n",
      " Floors_4  with OrientedBoundingBox: center: (3.98498, 10.3573, -1.50599), extent: 13.8513, 12.9893, 0.0711255)\n",
      " Floors_5  with OrientedBoundingBox: center: (-1.98589, 0.503929, -1.46873), extent: 10.4484, 2.44964, 0.0977315)\n"
     ]
    }
   ],
   "source": [
    "#retrieve floor points\n",
    "floorNodes=[n for n in pcdNodes if n.class_id ==0]\n",
    "print(f'{len(floorNodes)} floorNodes detected!')\n",
    "for n in floorNodes:\n",
    "    print(f' {n.name} with {n.orientedBoundingBox}')\n"
   ]
  },
  {
   "cell_type": "code",
   "execution_count": 91,
   "metadata": {},
   "outputs": [
    {
     "name": "stdout",
     "output_type": "stream",
     "text": [
      "[[<geomapi.nodes.pointcloudnode.PointCloudNode object at 0x0000021A87E85AB0>, <geomapi.nodes.pointcloudnode.PointCloudNode object at 0x0000021A8B090640>, <geomapi.nodes.pointcloudnode.PointCloudNode object at 0x0000021A88886D70>, <geomapi.nodes.pointcloudnode.PointCloudNode object at 0x0000021A88885C60>, <geomapi.nodes.pointcloudnode.PointCloudNode object at 0x0000021A88887010>]]\n"
     ]
    }
   ],
   "source": [
    "# for now, put all floorNodes in a single group (1 reference level)\n",
    "groupedFloorNodes=[floorNodes]\n",
    "print(groupedFloorNodes)\n"
   ]
  },
  {
   "cell_type": "markdown",
   "metadata": {},
   "source": [
    "Compute reference Planes"
   ]
  },
  {
   "cell_type": "code",
   "execution_count": 139,
   "metadata": {},
   "outputs": [
    {
     "name": "stdout",
     "output_type": "stream",
     "text": [
      " Level 00 created at height -1.510533772929771\n"
     ]
    }
   ],
   "source": [
    "#compute height underneight all floor points of a level (according to the lowest slab)\n",
    "referenceNodes= []\n",
    "\n",
    "for i,nodes in enumerate(groupedFloorNodes):\n",
    "    #create sessionNode\n",
    "    referenceNode=SessionNode(linkedNodes=nodes,\n",
    "                                name=str(i)+'0')\n",
    "    \n",
    "    #determine height -> note that this can be negative\n",
    "    weights=[float(len(np.asarray(n.resource.points))) for n in nodes]\n",
    "    heights= [float(n.cartesianTransform[2,3]) for n in nodes]\n",
    "    weighted_height= np.average(heights, weights=weights)\n",
    "\n",
    "    #compute plane from cornerpoints orientedbounding box\n",
    "    vertices=np.array([np.hstack((referenceNode.orientedBounds[0][0:2],weighted_height)),\n",
    "                       np.hstack((referenceNode.orientedBounds[1][0:2],weighted_height)),\n",
    "                       np.hstack((referenceNode.orientedBounds[2][0:2],weighted_height)),\n",
    "                       np.hstack((referenceNode.orientedBounds[4][0:2],weighted_height))])#,\n",
    "    vertices=o3d.cpu.pybind.utility.Vector3dVector(vertices)\n",
    "    triangles=o3d.cpu.pybind.utility.Vector3iVector(np.array([[0,1,2],[2,1,3]]))\n",
    "    plane=o3d.geometry.TriangleMesh(vertices,triangles)\n",
    "\n",
    "    #assign information to referenceNode\n",
    "    referenceNode.plane=plane\n",
    "    referenceNode.height=weighted_height\n",
    "    \n",
    "    referenceNodes.append(referenceNode)\n",
    "    print(f' Level {referenceNode.name} created at height {referenceNode.height}')\n",
    "# print(f'{len(referenceNodes)} referenceNodes created!')"
   ]
  },
  {
   "cell_type": "code",
   "execution_count": 136,
   "metadata": {},
   "outputs": [],
   "source": [
    "# joined_pcd=gmu.join_geometries([n.resource.paint_uniform_color(n.color) for n in pcdNodes if n.resource is not None])\n",
    "o3d.visualization.draw_geometries([joined_pcd,referenceNodes[0].plane])"
   ]
  },
  {
   "cell_type": "code",
   "execution_count": 107,
   "metadata": {},
   "outputs": [
    {
     "data": {
      "text/plain": [
       "{'_linkedNodes': [<geomapi.nodes.pointcloudnode.PointCloudNode at 0x21a87e85ab0>,\n",
       "  <geomapi.nodes.pointcloudnode.PointCloudNode at 0x21a8b090640>,\n",
       "  <geomapi.nodes.pointcloudnode.PointCloudNode at 0x21a88886d70>,\n",
       "  <geomapi.nodes.pointcloudnode.PointCloudNode at 0x21a88885c60>,\n",
       "  <geomapi.nodes.pointcloudnode.PointCloudNode at 0x21a88887010>],\n",
       " '_linkedSubjects': [rdflib.term.URIRef('file:///Floors_1'),\n",
       "  rdflib.term.URIRef('file:///Floors_2'),\n",
       "  rdflib.term.URIRef('file:///Floors_3'),\n",
       "  rdflib.term.URIRef('file:///Floors_4'),\n",
       "  rdflib.term.URIRef('file:///Floors_5')],\n",
       " '_subject': rdflib.term.URIRef('file:///a3e78300-eaa5-11ee-9be4-a86daaa4a627'),\n",
       " '_graph': None,\n",
       " '_graphPath': None,\n",
       " '_path': None,\n",
       " '_name': '00',\n",
       " '_cartesianBounds': array([-5.77175325, 12.37057903, -8.33183713, 18.43981594, -1.789631  ,\n",
       "        -1.30798256]),\n",
       " '_orientedBounds': array([[  6.74585019, -12.42514678,  -1.8615349 ],\n",
       "        [ 16.43704216,  13.27820569,  -1.71713809],\n",
       "        [-10.22306544,  -6.02798653,  -1.71918955],\n",
       "        [  6.74784872, -12.42794525,  -1.49752447],\n",
       "        [ -0.52987494,  19.67256747,  -1.21078231],\n",
       "        [-10.22106691,  -6.03078501,  -1.35517912],\n",
       "        [ 16.43904069,  13.27540722,  -1.35312766],\n",
       "        [ -0.53187347,  19.67536594,  -1.57479274]]),\n",
       " '_orientedBoundingBox': OrientedBoundingBox: center: (3.10799, 3.62371, -1.53616), extent: 27.47, 18.1353, 0.364027),\n",
       " '_timestamp': '2024-03-25T13:34:33',\n",
       " '_resource': TriangleMesh with 20 points and 36 triangles.,\n",
       " '_cartesianTransform': array([[ 1.        ,  0.        ,  0.        ,  0.759465  ],\n",
       "        [ 0.        ,  1.        ,  0.        ,  0.09798562],\n",
       "        [ 0.        ,  0.        ,  1.        , -1.53524888],\n",
       "        [ 0.        ,  0.        ,  0.        ,  1.        ]])}"
      ]
     },
     "execution_count": 107,
     "metadata": {},
     "output_type": "execute_result"
    }
   ],
   "source": [
    "{key:value for key, value in referenceNode.__dict__.items() if not key.startswith('__') and not callable(key)}              "
   ]
  },
  {
   "cell_type": "markdown",
   "metadata": {},
   "source": [
    "## EXPORT"
   ]
  },
  {
   "cell_type": "markdown",
   "metadata": {},
   "source": [
    "geometry"
   ]
  },
  {
   "cell_type": "code",
   "execution_count": 143,
   "metadata": {},
   "outputs": [
    {
     "data": {
      "text/plain": [
       "'c:\\\\Users\\\\Maarten\\\\OneDrive - KU Leuven\\\\2024-05 CVPR scan-to-BIM challenge\\\\data\\\\e003_labels_labels.laz'"
      ]
     },
     "execution_count": 143,
     "metadata": {},
     "output_type": "execute_result"
    }
   ],
   "source": [
    "geometry_output_path"
   ]
  },
  {
   "cell_type": "code",
   "execution_count": 142,
   "metadata": {},
   "outputs": [
    {
     "name": "stdout",
     "output_type": "stream",
     "text": [
      "[Open3D WARNING] Write geometry::TriangleMesh failed: unknown file extension.\n",
      " Saving joint references : False\n"
     ]
    }
   ],
   "source": [
    "joined_references=gmu.join_geometries([n.resource for n in referenceNodes])\n",
    "success=o3d.io.write_triangle_mesh(filename=geometry_output_path, mesh=joined_references)\n",
    "print(f' Saving joint references : {success}')\n",
    "    "
   ]
  },
  {
   "cell_type": "markdown",
   "metadata": {},
   "source": [
    "json with reference heights"
   ]
  },
  {
   "cell_type": "code",
   "execution_count": null,
   "metadata": {},
   "outputs": [],
   "source": [
    "#declare json\n",
    "json_data = {\n",
    "        \"filename\": ut.get_filename(geometry_output_path),\n",
    "        \"objects\": []\n",
    "    }"
   ]
  },
  {
   "cell_type": "code",
   "execution_count": null,
   "metadata": {},
   "outputs": [],
   "source": [
    "#fill json\n",
    "for n in referenceNodes:\n",
    "    obj = {\n",
    "            \"name\": n.name,\n",
    "            \"object_id\":n.object_id,\n",
    "            \"centroid\": {\n",
    "                \"x\": n.center[0],\n",
    "                \"y\": n.center[1],\n",
    "                \"z\": n.center[2]\n",
    "            },\n",
    "            \"dimensions\": {\n",
    "                \"length\": n.dimensions[0],\n",
    "                \"width\": n.dimensions[1],\n",
    "                \"height\": n.dimensions[2]\n",
    "            },\n",
    "            \"rotations\": {\n",
    "                \"x\": 0,\n",
    "                \"y\": 0,\n",
    "                \"z\": n.rotations[0]\n",
    "            }\n",
    "            }\n",
    "    json_data[\"objects\"].append(obj)"
   ]
  },
  {
   "cell_type": "code",
   "execution_count": null,
   "metadata": {},
   "outputs": [],
   "source": [
    "#write this information to the 3D detection json\n",
    "with open(json_output_path, \"w\") as json_file:\n",
    "    json.dump(json_data, json_file, indent=4)\n",
    "print(\"JSON data written to file:\", json_output_path)"
   ]
  }
 ],
 "metadata": {
  "kernelspec": {
   "display_name": "geomapi_installed",
   "language": "python",
   "name": "python3"
  },
  "language_info": {
   "codemirror_mode": {
    "name": "ipython",
    "version": 3
   },
   "file_extension": ".py",
   "mimetype": "text/x-python",
   "name": "python",
   "nbconvert_exporter": "python",
   "pygments_lexer": "ipython3",
   "version": "3.10.13"
  }
 },
 "nbformat": 4,
 "nbformat_minor": 2
}
