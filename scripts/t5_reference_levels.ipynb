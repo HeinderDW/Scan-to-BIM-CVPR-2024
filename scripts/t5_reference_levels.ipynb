{
 "cells": [
  {
   "cell_type": "markdown",
   "metadata": {},
   "source": [
    "# T5. REFERENCE LEVELS\n",
    "\n",
    "In this notebook, we extract the reference levels from the t1_semantic segmentation/ t2_instance segmentation"
   ]
  },
  {
   "cell_type": "markdown",
   "metadata": {},
   "source": [
    "## LIBRARIES"
   ]
  },
  {
   "cell_type": "code",
   "execution_count": 123,
   "metadata": {},
   "outputs": [],
   "source": [
    "#IMPORT PACKAGES\n",
    "from rdflib import Graph, URIRef\n",
    "import os.path\n",
    "import importlib\n",
    "from pathlib import Path\n",
    "import numpy as np\n",
    "import xml.etree.ElementTree as ET\n",
    "import open3d as o3d\n",
    "import uuid    \n",
    "import pye57 \n",
    "import ifcopenshell\n",
    "import ifcopenshell.geom as geom\n",
    "import ifcopenshell.util\n",
    "from ifcopenshell.util.selector import Selector\n",
    "import multiprocessing\n",
    "import random as rd\n",
    "import pandas as pd\n",
    "# from tabulate import tabulate\n",
    "import cv2\n",
    "import laspy\n",
    "import json\n",
    "from scipy.spatial.transform import Rotation   \n",
    "import copy\n",
    "import geomapi\n",
    "from geomapi.nodes import *\n",
    "import geomapi.utils as ut\n",
    "from geomapi.utils import geometryutils as gmu\n",
    "import geomapi.tools as tl\n",
    "\n",
    "#import utils\n",
    "from context import utils\n",
    "import utils as utl\n",
    "import utils.t1_utils as t1\n"
   ]
  },
  {
   "cell_type": "code",
   "execution_count": 124,
   "metadata": {},
   "outputs": [
    {
     "name": "stdout",
     "output_type": "stream",
     "text": [
      "The autoreload extension is already loaded. To reload it, use:\n",
      "  %reload_ext autoreload\n"
     ]
    }
   ],
   "source": [
    "%load_ext autoreload"
   ]
  },
  {
   "cell_type": "code",
   "execution_count": 125,
   "metadata": {},
   "outputs": [],
   "source": [
    "%autoreload 2"
   ]
  },
  {
   "cell_type": "markdown",
   "metadata": {},
   "source": [
    "## INPUTS"
   ]
  },
  {
   "cell_type": "code",
   "execution_count": 126,
   "metadata": {},
   "outputs": [],
   "source": [
    "name='beton_labels'\n",
    "\n",
    "path=Path(os.getcwd()).parents[2]/'data'\n",
    "pcd_input_path=os.path.join(path,f'{name}.laz')\n",
    "class_file=path/'_classes.json'\n",
    "\n",
    "name=name.split('_')[0]\n",
    "json_output_path=os.path.join(path,f'{name}_levels.json') \n",
    "geometry_output_path= os.path.join(path,f'{name}_levels.obj') # these are the bounding surfaces of the reference levels (optional)\n",
    "\n",
    "#bimfolder\n",
    "# bimFolder=os.mkdir(path/name/'BIM')\n",
    "graphPath=str(path/f'{name}Graph.ttl')"
   ]
  },
  {
   "cell_type": "markdown",
   "metadata": {},
   "source": [
    "Import Classes"
   ]
  },
  {
   "cell_type": "code",
   "execution_count": 127,
   "metadata": {},
   "outputs": [
    {
     "name": "stdout",
     "output_type": "stream",
     "text": [
      "{'classes': [{'name': 'Unassigned', 'id': 255, 'temp_id': -1, 'color': '#9da2ab'}, {'name': 'Floors', 'id': 0, 'temp_id': 0, 'color': '#03c2fc'}, {'name': 'Ceilings', 'id': 1, 'temp_id': 1, 'color': '#e81416'}, {'name': 'Walls', 'id': 2, 'temp_id': 2, 'color': '#ffa500'}, {'name': 'Columns', 'id': 3, 'temp_id': 3, 'color': '#faeb36'}, {'name': 'Doors', 'id': 4, 'temp_id': 4, 'color': '#79c314'}, {'name': 'Windows', 'id': 5, 'temp_id': 5, 'color': '#4b369d'}], 'default': 255, 'type': 'semantic_segmentation', 'format': 'kitti', 'created_with': {'name': 'Saiga', 'version': '1.0.1'}}\n"
     ]
    }
   ],
   "source": [
    "# Read the JSON file\n",
    "with open(class_file, 'r') as file:\n",
    "    json_data = json.load(file)\n",
    "\n",
    "# Create a dictionary\n",
    "class_dict = {\n",
    "    'classes': json_data['classes'],\n",
    "    'default': json_data['default'],\n",
    "    'type': json_data['type'],\n",
    "    'format': json_data['format'],\n",
    "    'created_with': json_data['created_with']\n",
    "}\n",
    "print(class_dict)"
   ]
  },
  {
   "cell_type": "markdown",
   "metadata": {},
   "source": [
    "Import PCD"
   ]
  },
  {
   "cell_type": "code",
   "execution_count": 128,
   "metadata": {},
   "outputs": [],
   "source": [
    "laz=laspy.read(pcd_input_path)"
   ]
  },
  {
   "cell_type": "code",
   "execution_count": 129,
   "metadata": {},
   "outputs": [],
   "source": [
    "# pcdNodes=[]\n",
    "# #split pcd per object\n",
    "# for i in np.unique(laz['classes']):\n",
    "#     idx=np.where(laz['classes']==i)\n",
    "#     points=laz.xyz[idx]\n",
    "#     # colors=np.array([laz.red[idx],laz.green[idx],laz.blue[idx]])\n",
    "#     object_labels=laz['objects'][idx]\n",
    "\n",
    "#     class_obj=next((class_obj for class_obj in json_data['classes'] if float(class_obj['id']) ==i), json_data['classes'][0])\n",
    "#     class_name=class_obj['name']\n",
    "\n",
    "#     # pcd.colors=o3d.utility.Vector3dVector(colors)\n",
    "#     for j in np.unique(object_labels):\n",
    "        \n",
    "#         new_points=points[np.where(object_labels==j)]\n",
    "#         if new_points.shape[0]>100:\n",
    "#             pcd=o3d.geometry.PointCloud()\n",
    "#             pcd.points=o3d.utility.Vector3dVector(new_points)\n",
    "\n",
    "#             pcdNodes.append(PointCloudNode(resource=pcd,\n",
    "#                                         class_id=i,\n",
    "#                                         object_id=j,\n",
    "#                                         color=ut.random_color(),\n",
    "#                                             name=class_name+f'_{j}'))\n",
    "\n",
    "# print(f'{len(pcdNodes)} pcdNodes created!')"
   ]
  },
  {
   "cell_type": "markdown",
   "metadata": {},
   "source": [
    "import Graph"
   ]
  },
  {
   "cell_type": "code",
   "execution_count": 130,
   "metadata": {},
   "outputs": [],
   "source": [
    "graph=Graph().parse(graphPath)\n",
    "pcdNodes=tl.graph_to_nodes(graph)"
   ]
  },
  {
   "cell_type": "markdown",
   "metadata": {},
   "source": [
    "match point clouds with graph"
   ]
  },
  {
   "cell_type": "code",
   "execution_count": 131,
   "metadata": {},
   "outputs": [],
   "source": [
    "for n in pcdNodes: # this is 6 times slower than the code above !!\n",
    "    idx=np.where((laz['classes']==n.class_id) & (laz['objects']==n.object_id))\n",
    "    pcd=o3d.geometry.PointCloud()\n",
    "    pcd.points=o3d.utility.Vector3dVector(laz.xyz[idx])\n",
    "    n.resource=pcd"
   ]
  },
  {
   "cell_type": "code",
   "execution_count": 132,
   "metadata": {},
   "outputs": [
    {
     "data": {
      "text/plain": [
       "{'_e57Index': 0,\n",
       " 'pointCount': 6778,\n",
       " 'e57XmlPath': None,\n",
       " '_cartesianBounds': array([1.03781368e+05, 1.03784172e+05, 1.94669672e+05, 1.94672953e+05,\n",
       "        9.32700000e+00, 9.41400000e+00]),\n",
       " '_orientedBounds': array([[1.03782598e+05, 1.94669406e+05, 9.29465039e+00],\n",
       "        [1.03784583e+05, 1.94672383e+05, 9.33818767e+00],\n",
       "        [1.03781107e+05, 1.94670399e+05, 9.30827883e+00],\n",
       "        [1.03782598e+05, 1.94669404e+05, 9.39478446e+00],\n",
       "        [1.03783093e+05, 1.94673375e+05, 9.45195018e+00],\n",
       "        [1.03781107e+05, 1.94670398e+05, 9.40841290e+00],\n",
       "        [1.03784583e+05, 1.94672382e+05, 9.43832174e+00],\n",
       "        [1.03783093e+05, 1.94673377e+05, 9.35181611e+00]]),\n",
       " '_orientedBoundingBox': None,\n",
       " '_subject': rdflib.term.URIRef('file:///0_Floors_1'),\n",
       " '_graph': <Graph identifier=N3c194acddfd44077b9f69746fabd4fae (<class 'rdflib.graph.Graph'>)>,\n",
       " '_graphPath': None,\n",
       " '_path': None,\n",
       " '_name': '0_Floors_1',\n",
       " '_timestamp': None,\n",
       " '_resource': PointCloud with 6778 points.,\n",
       " '_cartesianTransform': array([[1.00000000e+00, 0.00000000e+00, 0.00000000e+00, 1.03782714e+05],\n",
       "        [0.00000000e+00, 1.00000000e+00, 0.00000000e+00, 1.94671134e+05],\n",
       "        [0.00000000e+00, 0.00000000e+00, 1.00000000e+00, 9.37513249e+00],\n",
       "        [0.00000000e+00, 0.00000000e+00, 0.00000000e+00, 1.00000000e+00]]),\n",
       " 'type': 'https://w3id.org/v4d/core#PointCloudNode',\n",
       " 'box': 'OrientedBoundingBox: center: (103783, 194671, 34.3705), extent: 50.087, 3.48077, 1.58716)',\n",
       " 'center': '[103782.90898422958, 194671.35813810225, 9.375132487459428]',\n",
       " 'class_id': 0,\n",
       " 'color': '[0.3254902  0.09019608 0.01176471]',\n",
       " 'dimensions': '[3.480770808764186, 1.5871556712261676, 0.08699999999999974]',\n",
       " 'object_id': 1,\n",
       " 'rotations': '[-90.          49.00817934  90.        ]'}"
      ]
     },
     "execution_count": 132,
     "metadata": {},
     "output_type": "execute_result"
    }
   ],
   "source": [
    "{key:value for key, value in pcdNodes[1].__dict__.items() if not key.startswith('__') and not callable(key)}              "
   ]
  },
  {
   "cell_type": "code",
   "execution_count": 133,
   "metadata": {},
   "outputs": [],
   "source": [
    "# joined_pcd=gmu.join_geometries([n.resource.paint_uniform_color(ut.literal_to_array(n.color)) for n in pcdNodes if n.resource is not None])\n",
    "# o3d.visualization.draw_geometries([joined_pcd])"
   ]
  },
  {
   "cell_type": "markdown",
   "metadata": {},
   "source": [
    "## PROCESSING"
   ]
  },
  {
   "cell_type": "markdown",
   "metadata": {},
   "source": [
    "Group floor point clouds"
   ]
  },
  {
   "cell_type": "code",
   "execution_count": 134,
   "metadata": {},
   "outputs": [
    {
     "name": "stdout",
     "output_type": "stream",
     "text": [
      "9 floorNodes detected!\n",
      " 0_Floors_1 with OrientedBoundingBox: center: (103783, 194671, 9.3733), extent: 3.57975, 1.79201, 0.100157)\n",
      " 0_Floors_2 with OrientedBoundingBox: center: (103778, 194657, 9.15455), extent: 16.7689, 2.42513, 0.118288)\n",
      " 0_Floors_3 with OrientedBoundingBox: center: (103777, 194666, 9.19714), extent: 7.45786, 1.36485, 0.0926567)\n",
      " 0_Floors_4 with OrientedBoundingBox: center: (103788, 194655, 9.14621), extent: 9.95776, 1.39346, 0.230278)\n",
      " 0_Floors_5 with OrientedBoundingBox: center: (103793, 194660, 9.22532), extent: 4.40927, 1.36758, 0.082956)\n",
      " 0_Floors_6 with OrientedBoundingBox: center: (103797, 194663, 9.23211), extent: 4.50235, 1.15998, 0.0803558)\n",
      " 0_Floors_7 with OrientedBoundingBox: center: (103793, 194670, 9.2833), extent: 17.5246, 6.25761, 0.345612)\n",
      " 0_Floors_8 with OrientedBoundingBox: center: (103786, 194664, 9.11211), extent: 19.7788, 14.7034, 0.260121)\n",
      " 0_Floors_9 with OrientedBoundingBox: center: (103788, 194671, 9.11058), extent: 6.64896, 5.22037, 0.124909)\n"
     ]
    }
   ],
   "source": [
    "#retrieve floor points\n",
    "floorNodes=[n for n in pcdNodes if n.class_id ==0]\n",
    "print(f'{len(floorNodes)} floorNodes detected!')\n",
    "for n in floorNodes:\n",
    "    print(f' {n.name} with {n.get_oriented_bounding_box()}')\n"
   ]
  },
  {
   "cell_type": "code",
   "execution_count": 135,
   "metadata": {},
   "outputs": [
    {
     "name": "stdout",
     "output_type": "stream",
     "text": [
      "[[<geomapi.nodes.pointcloudnode.PointCloudNode object at 0x00000234CF9F6B90>, <geomapi.nodes.pointcloudnode.PointCloudNode object at 0x00000234C0738C10>, <geomapi.nodes.pointcloudnode.PointCloudNode object at 0x00000234D32490F0>, <geomapi.nodes.pointcloudnode.PointCloudNode object at 0x00000234C0738B80>, <geomapi.nodes.pointcloudnode.PointCloudNode object at 0x00000234C0738940>, <geomapi.nodes.pointcloudnode.PointCloudNode object at 0x00000234C07388B0>, <geomapi.nodes.pointcloudnode.PointCloudNode object at 0x00000234C0738BE0>, <geomapi.nodes.pointcloudnode.PointCloudNode object at 0x00000234C0738A00>, <geomapi.nodes.pointcloudnode.PointCloudNode object at 0x00000234C0738880>]]\n"
     ]
    }
   ],
   "source": [
    "# for now, put all floorNodes in a single group (1 reference level)\n",
    "groupedFloorNodes=[floorNodes]\n",
    "print(groupedFloorNodes)\n"
   ]
  },
  {
   "cell_type": "markdown",
   "metadata": {},
   "source": [
    "Compute reference Planes"
   ]
  },
  {
   "cell_type": "code",
   "execution_count": 137,
   "metadata": {},
   "outputs": [
    {
     "name": "stdout",
     "output_type": "stream",
     "text": [
      " Level level_00 created at height 9.149400542324619\n"
     ]
    }
   ],
   "source": [
    "#compute height underneight all floor points of a level (according to the lowest slab)\n",
    "referenceNodes= []\n",
    "\n",
    "for i,nodes in enumerate(groupedFloorNodes):\n",
    "    #create sessionNode\n",
    "    name='level_'+str(i)+'0'\n",
    "    referenceNode=SessionNode(linkedNodes=nodes,\n",
    "                                name=name,\n",
    "                                subject=name)\n",
    "    \n",
    "    #determine height -> note that this can be negative\n",
    "    weights=[float(len(np.asarray(n.resource.points))) for n in nodes]\n",
    "    heights= [float(n.cartesianTransform[2,3]) for n in nodes]\n",
    "    weighted_height= np.average(heights, weights=weights)\n",
    "\n",
    "    #compute plane from cornerpoints orientedbounding box\n",
    "    vertices=np.array([np.hstack((referenceNode.orientedBounds[0][0:2],weighted_height)),\n",
    "                       np.hstack((referenceNode.orientedBounds[1][0:2],weighted_height)),\n",
    "                       np.hstack((referenceNode.orientedBounds[2][0:2],weighted_height)),\n",
    "                       np.hstack((referenceNode.orientedBounds[4][0:2],weighted_height))])#,\n",
    "    vertices=o3d.cpu.pybind.utility.Vector3dVector(vertices)\n",
    "    triangles=o3d.cpu.pybind.utility.Vector3iVector(np.array([[0,1,2],[2,1,3]]))\n",
    "    plane=o3d.geometry.TriangleMesh(vertices,triangles)\n",
    "\n",
    "    #assign information to referenceNode\n",
    "    referenceNode.plane=plane\n",
    "    referenceNode.height=weighted_height\n",
    "    \n",
    "    referenceNodes.append(referenceNode)\n",
    "    print(f' Level {referenceNode.name} created at height {referenceNode.height}')\n",
    "# print(f'{len(referenceNodes)} referenceNodes created!')"
   ]
  },
  {
   "cell_type": "code",
   "execution_count": 138,
   "metadata": {},
   "outputs": [],
   "source": [
    "# joined_pcd=gmu.join_geometries([n.resource.paint_uniform_color(n.color) for n in pcdNodes if n.resource is not None])\n",
    "# o3d.visualization.draw_geometries([joined_pcd,referenceNodes[0].plane])"
   ]
  },
  {
   "cell_type": "code",
   "execution_count": 139,
   "metadata": {},
   "outputs": [
    {
     "data": {
      "text/plain": [
       "{'_linkedNodes': [<geomapi.nodes.pointcloudnode.PointCloudNode at 0x234cf9f6b90>,\n",
       "  <geomapi.nodes.pointcloudnode.PointCloudNode at 0x234c0738c10>,\n",
       "  <geomapi.nodes.pointcloudnode.PointCloudNode at 0x234d32490f0>,\n",
       "  <geomapi.nodes.pointcloudnode.PointCloudNode at 0x234c0738b80>,\n",
       "  <geomapi.nodes.pointcloudnode.PointCloudNode at 0x234c0738940>,\n",
       "  <geomapi.nodes.pointcloudnode.PointCloudNode at 0x234c07388b0>,\n",
       "  <geomapi.nodes.pointcloudnode.PointCloudNode at 0x234c0738be0>,\n",
       "  <geomapi.nodes.pointcloudnode.PointCloudNode at 0x234c0738a00>,\n",
       "  <geomapi.nodes.pointcloudnode.PointCloudNode at 0x234c0738880>],\n",
       " '_linkedSubjects': [rdflib.term.URIRef('file:///0_Floors_1'),\n",
       "  rdflib.term.URIRef('file:///0_Floors_2'),\n",
       "  rdflib.term.URIRef('file:///0_Floors_3'),\n",
       "  rdflib.term.URIRef('file:///0_Floors_4'),\n",
       "  rdflib.term.URIRef('file:///0_Floors_5'),\n",
       "  rdflib.term.URIRef('file:///0_Floors_6'),\n",
       "  rdflib.term.URIRef('file:///0_Floors_7'),\n",
       "  rdflib.term.URIRef('file:///0_Floors_8'),\n",
       "  rdflib.term.URIRef('file:///0_Floors_9')],\n",
       " '_subject': rdflib.term.URIRef('file:///level_00'),\n",
       " '_graph': None,\n",
       " '_graphPath': None,\n",
       " '_path': None,\n",
       " '_name': 'level_00',\n",
       " '_cartesianBounds': array([1.03771625e+05, 1.03801741e+05, 1.94649782e+05, 1.94678155e+05,\n",
       "        8.94960644e+00, 9.58402653e+00]),\n",
       " '_orientedBounds': array([[1.03789054e+05, 1.94646344e+05, 8.72455075e+00],\n",
       "        [1.03802766e+05, 1.94669200e+05, 8.87839540e+00],\n",
       "        [1.03769417e+05, 1.94658124e+05, 8.85199679e+00],\n",
       "        [1.03789055e+05, 1.94646339e+05, 9.33329769e+00],\n",
       "        [1.03783129e+05, 1.94680975e+05, 9.61458840e+00],\n",
       "        [1.03769418e+05, 1.94658119e+05, 9.46074374e+00],\n",
       "        [1.03802767e+05, 1.94669195e+05, 9.48714235e+00],\n",
       "        [1.03783128e+05, 1.94680979e+05, 9.00584145e+00]]),\n",
       " '_orientedBoundingBox': OrientedBoundingBox: center: (103786, 194664, 9.16957), extent: 26.6533, 22.8999, 0.608767),\n",
       " '_timestamp': '2024-03-25T16:35:58',\n",
       " '_resource': TriangleMesh with 21 points and 38 triangles.,\n",
       " '_cartesianTransform': array([[1.00000000e+00, 0.00000000e+00, 0.00000000e+00, 1.03787018e+05],\n",
       "        [0.00000000e+00, 1.00000000e+00, 0.00000000e+00, 1.94664112e+05],\n",
       "        [0.00000000e+00, 0.00000000e+00, 1.00000000e+00, 9.20384752e+00],\n",
       "        [0.00000000e+00, 0.00000000e+00, 0.00000000e+00, 1.00000000e+00]]),\n",
       " 'plane': TriangleMesh with 4 points and 2 triangles.,\n",
       " 'height': 9.149400542324619}"
      ]
     },
     "execution_count": 139,
     "metadata": {},
     "output_type": "execute_result"
    }
   ],
   "source": [
    "{key:value for key, value in referenceNode.__dict__.items() if not key.startswith('__') and not callable(key)}              "
   ]
  },
  {
   "cell_type": "markdown",
   "metadata": {},
   "source": [
    "Compute Json information"
   ]
  },
  {
   "cell_type": "code",
   "execution_count": 140,
   "metadata": {},
   "outputs": [],
   "source": [
    "for n in referenceNodes:\n",
    "    n.box=pcd.get_oriented_bounding_box()\n",
    "    n.box.color=[1,0,0]\n",
    "    \n",
    "    rotation_matrix=copy.deepcopy(n.box.R) #! can these angles be negative?\n",
    "    r =  Rotation.from_matrix(np.asarray(rotation_matrix))\n",
    "    n.rotations = r.as_euler(\"zyx\",degrees=True)"
   ]
  },
  {
   "cell_type": "markdown",
   "metadata": {},
   "source": [
    "## EXPORT"
   ]
  },
  {
   "cell_type": "markdown",
   "metadata": {},
   "source": [
    "geometry"
   ]
  },
  {
   "cell_type": "code",
   "execution_count": 141,
   "metadata": {},
   "outputs": [
    {
     "name": "stdout",
     "output_type": "stream",
     "text": [
      " Saving joint references : True\n"
     ]
    }
   ],
   "source": [
    "joined_references=gmu.join_geometries([n.resource for n in referenceNodes])\n",
    "success=o3d.io.write_triangle_mesh(filename=geometry_output_path, mesh=joined_references)\n",
    "print(f' Saving joint references : {success}')\n",
    "    "
   ]
  },
  {
   "cell_type": "markdown",
   "metadata": {},
   "source": [
    "json with reference heights"
   ]
  },
  {
   "cell_type": "code",
   "execution_count": 142,
   "metadata": {},
   "outputs": [],
   "source": [
    "#declare json\n",
    "json_data = {\n",
    "        \"filename\": ut.get_filename(geometry_output_path),\n",
    "        \"objects\": []\n",
    "    }"
   ]
  },
  {
   "cell_type": "code",
   "execution_count": 143,
   "metadata": {},
   "outputs": [],
   "source": [
    "#fill json\n",
    "for n in referenceNodes:\n",
    "    obj = {\n",
    "            \"name\": 'level_'+n.name,\n",
    "            \"centroid\": {\n",
    "                \"x\": n.box.center[0],\n",
    "                \"y\": n.box.center[1],\n",
    "                \"z\": n.height\n",
    "            },\n",
    "            \"dimensions\": {\n",
    "                \"length\": n.box.extent[0],\n",
    "                \"width\": n.box.extent[1],\n",
    "                \"height\": n.height\n",
    "            },\n",
    "            \"rotations\": {\n",
    "                \"x\": 0,\n",
    "                \"y\": 0,\n",
    "                \"z\": n.rotations[0]\n",
    "            }\n",
    "            }\n",
    "    json_data[\"objects\"].append(obj)"
   ]
  },
  {
   "cell_type": "code",
   "execution_count": 144,
   "metadata": {},
   "outputs": [
    {
     "name": "stdout",
     "output_type": "stream",
     "text": [
      "JSON data written to file: c:\\Users\\Maarten\\OneDrive - KU Leuven\\2024-05 CVPR scan-to-BIM challenge\\data\\beton_levels.json\n"
     ]
    }
   ],
   "source": [
    "#write this information to the 3D detection json\n",
    "with open(json_output_path, \"w\") as json_file:\n",
    "    json.dump(json_data, json_file, indent=4)\n",
    "print(\"JSON data written to file:\", json_output_path)"
   ]
  },
  {
   "cell_type": "markdown",
   "metadata": {},
   "source": [
    "save Graph"
   ]
  },
  {
   "cell_type": "code",
   "execution_count": 145,
   "metadata": {},
   "outputs": [
    {
     "data": {
      "text/plain": [
       "<Graph identifier=N3f2ef880db314425aedd927d8be3b4fa (<class 'rdflib.graph.Graph'>)>"
      ]
     },
     "execution_count": 145,
     "metadata": {},
     "output_type": "execute_result"
    }
   ],
   "source": [
    "new_graph=tl.nodes_to_graph(referenceNodes,\n",
    "                  graphPath=graphPath)\n",
    "graph=graph+new_graph\n",
    "graph.serialize(graphPath)"
   ]
  }
 ],
 "metadata": {
  "kernelspec": {
   "display_name": "geomapi_installed",
   "language": "python",
   "name": "python3"
  },
  "language_info": {
   "codemirror_mode": {
    "name": "ipython",
    "version": 3
   },
   "file_extension": ".py",
   "mimetype": "text/x-python",
   "name": "python",
   "nbconvert_exporter": "python",
   "pygments_lexer": "ipython3",
   "version": "3.10.13"
  }
 },
 "nbformat": 4,
 "nbformat_minor": 2
}
