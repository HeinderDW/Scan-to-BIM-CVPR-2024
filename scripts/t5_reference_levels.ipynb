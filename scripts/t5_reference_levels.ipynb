{
 "cells": [
  {
   "cell_type": "markdown",
   "metadata": {},
   "source": [
    "# T5. REFERENCE LEVELS\n",
    "\n",
    "In this notebook, we extract the reference levels from the t1_semantic segmentation/ t2_instance segmentation"
   ]
  },
  {
   "cell_type": "markdown",
   "metadata": {},
   "source": [
    "## LIBRARIES"
   ]
  },
  {
   "cell_type": "code",
   "execution_count": 20,
   "metadata": {},
   "outputs": [],
   "source": [
    "#IMPORT PACKAGES\n",
    "from rdflib import Graph, URIRef\n",
    "import os.path\n",
    "import importlib\n",
    "from pathlib import Path\n",
    "import numpy as np\n",
    "import xml.etree.ElementTree as ET\n",
    "import open3d as o3d\n",
    "import uuid    \n",
    "import pye57 \n",
    "import ifcopenshell\n",
    "import ifcopenshell.geom as geom\n",
    "import ifcopenshell.util\n",
    "from ifcopenshell.util.selector import Selector\n",
    "import multiprocessing\n",
    "import random as rd\n",
    "import pandas as pd\n",
    "# from tabulate import tabulate\n",
    "import cv2\n",
    "import laspy\n",
    "import json\n",
    "from scipy.spatial.transform import Rotation   \n",
    "import copy\n",
    "import geomapi\n",
    "from geomapi.nodes import *\n",
    "import geomapi.utils as ut\n",
    "from geomapi.utils import geometryutils as gmu\n",
    "import geomapi.tools as tl\n",
    "\n",
    "#import utils\n",
    "from context import utils\n",
    "import utils as utl\n",
    "import utils.t1_utils as t1\n"
   ]
  },
  {
   "cell_type": "code",
   "execution_count": 3,
   "metadata": {},
   "outputs": [],
   "source": [
    "%load_ext autoreload"
   ]
  },
  {
   "cell_type": "code",
   "execution_count": 4,
   "metadata": {},
   "outputs": [],
   "source": [
    "%autoreload 2"
   ]
  },
  {
   "cell_type": "markdown",
   "metadata": {},
   "source": [
    "## INPUTS"
   ]
  },
  {
   "cell_type": "code",
   "execution_count": 5,
   "metadata": {},
   "outputs": [],
   "source": [
    "name='beton_labels'\n",
    "\n",
    "path=Path(os.getcwd()).parents[2]/'data'\n",
    "pcd_input_path=os.path.join(path,f'{name}.laz')\n",
    "class_file=path/'_classes.json'\n",
    "\n",
    "name=name.split('_')[0]\n",
    "json_output_path=os.path.join(path,f'{name}_levels.json') \n",
    "geometry_output_path= os.path.join(path,f'{name}_levels.obj') # these are the bounding surfaces of the reference levels (optional)\n"
   ]
  },
  {
   "cell_type": "markdown",
   "metadata": {},
   "source": [
    "Import Classes"
   ]
  },
  {
   "cell_type": "code",
   "execution_count": 6,
   "metadata": {},
   "outputs": [
    {
     "name": "stdout",
     "output_type": "stream",
     "text": [
      "{'classes': [{'name': 'Unassigned', 'id': 255, 'temp_id': -1, 'color': '#9da2ab'}, {'name': 'Floors', 'id': 0, 'temp_id': 0, 'color': '#03c2fc'}, {'name': 'Ceilings', 'id': 1, 'temp_id': 1, 'color': '#e81416'}, {'name': 'Walls', 'id': 2, 'temp_id': 2, 'color': '#ffa500'}, {'name': 'Columns', 'id': 3, 'temp_id': 3, 'color': '#faeb36'}, {'name': 'Doors', 'id': 4, 'temp_id': 4, 'color': '#79c314'}, {'name': 'Windows', 'id': 5, 'temp_id': 5, 'color': '#4b369d'}], 'default': 255, 'type': 'semantic_segmentation', 'format': 'kitti', 'created_with': {'name': 'Saiga', 'version': '1.0.1'}}\n"
     ]
    }
   ],
   "source": [
    "# Read the JSON file\n",
    "with open(class_file, 'r') as file:\n",
    "    json_data = json.load(file)\n",
    "\n",
    "# Create a dictionary\n",
    "class_dict = {\n",
    "    'classes': json_data['classes'],\n",
    "    'default': json_data['default'],\n",
    "    'type': json_data['type'],\n",
    "    'format': json_data['format'],\n",
    "    'created_with': json_data['created_with']\n",
    "}\n",
    "print(class_dict)"
   ]
  },
  {
   "cell_type": "markdown",
   "metadata": {},
   "source": [
    "Import PCD"
   ]
  },
  {
   "cell_type": "code",
   "execution_count": 8,
   "metadata": {},
   "outputs": [],
   "source": [
    "laz=laspy.read(pcd_input_path)"
   ]
  },
  {
   "cell_type": "code",
   "execution_count": 9,
   "metadata": {},
   "outputs": [
    {
     "name": "stdout",
     "output_type": "stream",
     "text": [
      "85 pcdNodes created!\n"
     ]
    }
   ],
   "source": [
    "pcdNodes=[]\n",
    "#split pcd per object\n",
    "for i in np.unique(laz['classes']):\n",
    "    idx=np.where(laz['classes']==i)\n",
    "    points=laz.xyz[idx]\n",
    "    # colors=np.array([laz.red[idx],laz.green[idx],laz.blue[idx]])\n",
    "    object_labels=laz['objects'][idx]\n",
    "\n",
    "    class_obj=next((class_obj for class_obj in json_data['classes'] if float(class_obj['id']) ==i), json_data['classes'][0])\n",
    "    class_name=class_obj['name']\n",
    "\n",
    "    # pcd.colors=o3d.utility.Vector3dVector(colors)\n",
    "    for j in np.unique(object_labels):\n",
    "        \n",
    "        new_points=points[np.where(object_labels==j)]\n",
    "        if new_points.shape[0]>100:\n",
    "            pcd=o3d.geometry.PointCloud()\n",
    "            pcd.points=o3d.utility.Vector3dVector(new_points)\n",
    "\n",
    "            pcdNodes.append(PointCloudNode(resource=pcd,\n",
    "                                        class_id=i,\n",
    "                                        object_id=j,\n",
    "                                        color=ut.random_color(),\n",
    "                                            name=class_name+f'_{j}'))\n",
    "\n",
    "print(f'{len(pcdNodes)} pcdNodes created!')"
   ]
  },
  {
   "cell_type": "code",
   "execution_count": 10,
   "metadata": {},
   "outputs": [],
   "source": [
    "joined_pcd=gmu.join_geometries([n.resource.paint_uniform_color(n.color) for n in pcdNodes if n.resource is not None])\n",
    "o3d.visualization.draw_geometries([joined_pcd])"
   ]
  },
  {
   "cell_type": "markdown",
   "metadata": {},
   "source": [
    "## PROCESSING"
   ]
  },
  {
   "cell_type": "markdown",
   "metadata": {},
   "source": [
    "Group floor point clouds"
   ]
  },
  {
   "cell_type": "code",
   "execution_count": 11,
   "metadata": {},
   "outputs": [
    {
     "name": "stdout",
     "output_type": "stream",
     "text": [
      "9 floorNodes detected!\n",
      " Floors_1 with OrientedBoundingBox: center: (103783, 194671, 9.37336), extent: 3.51333, 1.64835, 0.095465)\n",
      " Floors_2 with OrientedBoundingBox: center: (103778, 194657, 9.15707), extent: 16.7819, 2.46913, 0.119764)\n",
      " Floors_3 with OrientedBoundingBox: center: (103777, 194666, 9.19541), extent: 7.47256, 1.46945, 0.0813937)\n",
      " Floors_4 with OrientedBoundingBox: center: (103788, 194655, 9.15462), extent: 9.95826, 1.36459, 0.236444)\n",
      " Floors_5 with OrientedBoundingBox: center: (103793, 194660, 9.2283), extent: 4.40512, 1.33574, 0.0819982)\n",
      " Floors_6 with OrientedBoundingBox: center: (103797, 194663, 9.2351), extent: 4.50277, 1.18646, 0.0739727)\n",
      " Floors_7 with OrientedBoundingBox: center: (103793, 194670, 9.2808), extent: 17.4479, 6.25487, 0.348126)\n",
      " Floors_8 with OrientedBoundingBox: center: (103787, 194663, 9.12218), extent: 20.6706, 15.8668, 0.262362)\n",
      " Floors_9 with OrientedBoundingBox: center: (103788, 194672, 9.10797), extent: 6.77982, 5.34224, 0.116553)\n"
     ]
    }
   ],
   "source": [
    "#retrieve floor points\n",
    "floorNodes=[n for n in pcdNodes if n.class_id ==0]\n",
    "print(f'{len(floorNodes)} floorNodes detected!')\n",
    "for n in floorNodes:\n",
    "    print(f' {n.name} with {n.orientedBoundingBox}')\n"
   ]
  },
  {
   "cell_type": "code",
   "execution_count": 12,
   "metadata": {},
   "outputs": [
    {
     "name": "stdout",
     "output_type": "stream",
     "text": [
      "[[<geomapi.nodes.pointcloudnode.PointCloudNode object at 0x00000234C005E710>, <geomapi.nodes.pointcloudnode.PointCloudNode object at 0x00000234C005E470>, <geomapi.nodes.pointcloudnode.PointCloudNode object at 0x00000234C005E950>, <geomapi.nodes.pointcloudnode.PointCloudNode object at 0x00000234C005FB50>, <geomapi.nodes.pointcloudnode.PointCloudNode object at 0x00000234C005D960>, <geomapi.nodes.pointcloudnode.PointCloudNode object at 0x00000234C005D810>, <geomapi.nodes.pointcloudnode.PointCloudNode object at 0x00000234C005EDA0>, <geomapi.nodes.pointcloudnode.PointCloudNode object at 0x00000234C005FF70>, <geomapi.nodes.pointcloudnode.PointCloudNode object at 0x00000234C005EB90>]]\n"
     ]
    }
   ],
   "source": [
    "# for now, put all floorNodes in a single group (1 reference level)\n",
    "groupedFloorNodes=[floorNodes]\n",
    "print(groupedFloorNodes)\n"
   ]
  },
  {
   "cell_type": "markdown",
   "metadata": {},
   "source": [
    "Compute reference Planes"
   ]
  },
  {
   "cell_type": "code",
   "execution_count": 13,
   "metadata": {},
   "outputs": [
    {
     "name": "stdout",
     "output_type": "stream",
     "text": [
      " Level 00 created at height 9.149439581650363\n"
     ]
    }
   ],
   "source": [
    "#compute height underneight all floor points of a level (according to the lowest slab)\n",
    "referenceNodes= []\n",
    "\n",
    "for i,nodes in enumerate(groupedFloorNodes):\n",
    "    #create sessionNode\n",
    "    referenceNode=SessionNode(linkedNodes=nodes,\n",
    "                                name=str(i)+'0')\n",
    "    \n",
    "    #determine height -> note that this can be negative\n",
    "    weights=[float(len(np.asarray(n.resource.points))) for n in nodes]\n",
    "    heights= [float(n.cartesianTransform[2,3]) for n in nodes]\n",
    "    weighted_height= np.average(heights, weights=weights)\n",
    "\n",
    "    #compute plane from cornerpoints orientedbounding box\n",
    "    vertices=np.array([np.hstack((referenceNode.orientedBounds[0][0:2],weighted_height)),\n",
    "                       np.hstack((referenceNode.orientedBounds[1][0:2],weighted_height)),\n",
    "                       np.hstack((referenceNode.orientedBounds[2][0:2],weighted_height)),\n",
    "                       np.hstack((referenceNode.orientedBounds[4][0:2],weighted_height))])#,\n",
    "    vertices=o3d.cpu.pybind.utility.Vector3dVector(vertices)\n",
    "    triangles=o3d.cpu.pybind.utility.Vector3iVector(np.array([[0,1,2],[2,1,3]]))\n",
    "    plane=o3d.geometry.TriangleMesh(vertices,triangles)\n",
    "\n",
    "    #assign information to referenceNode\n",
    "    referenceNode.plane=plane\n",
    "    referenceNode.height=weighted_height\n",
    "    \n",
    "    referenceNodes.append(referenceNode)\n",
    "    print(f' Level {referenceNode.name} created at height {referenceNode.height}')\n",
    "# print(f'{len(referenceNodes)} referenceNodes created!')"
   ]
  },
  {
   "cell_type": "code",
   "execution_count": 14,
   "metadata": {},
   "outputs": [
    {
     "name": "stdout",
     "output_type": "stream",
     "text": [
      "[Open3D WARNING] GLFW Error: WGL: Failed to make context current: De aangevraagde overdrachtsbewerking wordt niet ondersteund. \n",
      "[Open3D WARNING] GLFW Error: WGL: Failed to make context current: De ingang is ongeldig. \n"
     ]
    }
   ],
   "source": [
    "# joined_pcd=gmu.join_geometries([n.resource.paint_uniform_color(n.color) for n in pcdNodes if n.resource is not None])\n",
    "o3d.visualization.draw_geometries([joined_pcd,referenceNodes[0].plane])"
   ]
  },
  {
   "cell_type": "code",
   "execution_count": 15,
   "metadata": {},
   "outputs": [
    {
     "data": {
      "text/plain": [
       "{'_linkedNodes': [<geomapi.nodes.pointcloudnode.PointCloudNode at 0x234c005e710>,\n",
       "  <geomapi.nodes.pointcloudnode.PointCloudNode at 0x234c005e470>,\n",
       "  <geomapi.nodes.pointcloudnode.PointCloudNode at 0x234c005e950>,\n",
       "  <geomapi.nodes.pointcloudnode.PointCloudNode at 0x234c005fb50>,\n",
       "  <geomapi.nodes.pointcloudnode.PointCloudNode at 0x234c005d960>,\n",
       "  <geomapi.nodes.pointcloudnode.PointCloudNode at 0x234c005d810>,\n",
       "  <geomapi.nodes.pointcloudnode.PointCloudNode at 0x234c005eda0>,\n",
       "  <geomapi.nodes.pointcloudnode.PointCloudNode at 0x234c005ff70>,\n",
       "  <geomapi.nodes.pointcloudnode.PointCloudNode at 0x234c005eb90>],\n",
       " '_linkedSubjects': [rdflib.term.URIRef('file:///Floors_1'),\n",
       "  rdflib.term.URIRef('file:///Floors_2'),\n",
       "  rdflib.term.URIRef('file:///Floors_3'),\n",
       "  rdflib.term.URIRef('file:///Floors_4'),\n",
       "  rdflib.term.URIRef('file:///Floors_5'),\n",
       "  rdflib.term.URIRef('file:///Floors_6'),\n",
       "  rdflib.term.URIRef('file:///Floors_7'),\n",
       "  rdflib.term.URIRef('file:///Floors_8'),\n",
       "  rdflib.term.URIRef('file:///Floors_9')],\n",
       " '_subject': rdflib.term.URIRef('file:///fc8e4412-eaaf-11ee-ace5-a86daaa4a627'),\n",
       " '_graph': None,\n",
       " '_graphPath': None,\n",
       " '_path': None,\n",
       " '_name': '00',\n",
       " '_cartesianBounds': array([1.03771596e+05, 1.03801558e+05, 1.94649773e+05, 1.94678088e+05,\n",
       "        8.96833629e+00, 9.57155701e+00]),\n",
       " '_orientedBounds': array([[1.03784319e+05, 1.94647839e+05, 8.84432081e+00],\n",
       "        [1.03803344e+05, 1.94665206e+05, 8.93121616e+00],\n",
       "        [1.03770909e+05, 1.94662529e+05, 8.90041993e+00],\n",
       "        [1.03784318e+05, 1.94647836e+05, 9.43761694e+00],\n",
       "        [1.03789935e+05, 1.94679893e+05, 9.58061140e+00],\n",
       "        [1.03770909e+05, 1.94662527e+05, 9.49371605e+00],\n",
       "        [1.03803344e+05, 1.94665203e+05, 9.52451229e+00],\n",
       "        [1.03789935e+05, 1.94679896e+05, 8.98731528e+00]]),\n",
       " '_orientedBoundingBox': OrientedBoundingBox: center: (103787, 194664, 9.21247), extent: 25.7604, 19.8903, 0.593302),\n",
       " '_timestamp': '2024-03-25T15:00:07',\n",
       " '_resource': TriangleMesh with 20 points and 36 triangles.,\n",
       " '_cartesianTransform': array([[1.00000000e+00, 0.00000000e+00, 0.00000000e+00, 1.03787033e+05],\n",
       "        [0.00000000e+00, 1.00000000e+00, 0.00000000e+00, 1.94664065e+05],\n",
       "        [0.00000000e+00, 0.00000000e+00, 1.00000000e+00, 9.20608955e+00],\n",
       "        [0.00000000e+00, 0.00000000e+00, 0.00000000e+00, 1.00000000e+00]]),\n",
       " 'plane': TriangleMesh with 4 points and 2 triangles.,\n",
       " 'height': 9.149439581650363}"
      ]
     },
     "execution_count": 15,
     "metadata": {},
     "output_type": "execute_result"
    }
   ],
   "source": [
    "{key:value for key, value in referenceNode.__dict__.items() if not key.startswith('__') and not callable(key)}              "
   ]
  },
  {
   "cell_type": "markdown",
   "metadata": {},
   "source": [
    "Compute Json information"
   ]
  },
  {
   "cell_type": "code",
   "execution_count": 21,
   "metadata": {},
   "outputs": [],
   "source": [
    "for n in referenceNodes:\n",
    "    n.box=pcd.get_oriented_bounding_box()\n",
    "    n.box.color=[1,0,0]\n",
    "    \n",
    "    rotation_matrix=copy.deepcopy(n.box.R) #! can these angles be negative?\n",
    "    r =  Rotation.from_matrix(np.asarray(rotation_matrix))\n",
    "    n.rotations = r.as_euler(\"zyx\",degrees=True)"
   ]
  },
  {
   "cell_type": "markdown",
   "metadata": {},
   "source": [
    "## EXPORT"
   ]
  },
  {
   "cell_type": "markdown",
   "metadata": {},
   "source": [
    "geometry"
   ]
  },
  {
   "cell_type": "code",
   "execution_count": 22,
   "metadata": {},
   "outputs": [
    {
     "name": "stdout",
     "output_type": "stream",
     "text": [
      " Saving joint references : True\n"
     ]
    }
   ],
   "source": [
    "joined_references=gmu.join_geometries([n.resource for n in referenceNodes])\n",
    "success=o3d.io.write_triangle_mesh(filename=geometry_output_path, mesh=joined_references)\n",
    "print(f' Saving joint references : {success}')\n",
    "    "
   ]
  },
  {
   "cell_type": "markdown",
   "metadata": {},
   "source": [
    "json with reference heights"
   ]
  },
  {
   "cell_type": "code",
   "execution_count": 26,
   "metadata": {},
   "outputs": [],
   "source": [
    "#declare json\n",
    "json_data = {\n",
    "        \"filename\": ut.get_filename(geometry_output_path),\n",
    "        \"objects\": []\n",
    "    }"
   ]
  },
  {
   "cell_type": "code",
   "execution_count": 27,
   "metadata": {},
   "outputs": [],
   "source": [
    "#fill json\n",
    "for n in referenceNodes:\n",
    "    obj = {\n",
    "            \"name\": 'level_'+n.name,\n",
    "            \"centroid\": {\n",
    "                \"x\": n.box.center[0],\n",
    "                \"y\": n.box.center[1],\n",
    "                \"z\": n.height\n",
    "            },\n",
    "            \"dimensions\": {\n",
    "                \"length\": n.box.extent[0],\n",
    "                \"width\": n.box.extent[1],\n",
    "                \"height\": n.height\n",
    "            },\n",
    "            \"rotations\": {\n",
    "                \"x\": 0,\n",
    "                \"y\": 0,\n",
    "                \"z\": n.rotations[0]\n",
    "            }\n",
    "            }\n",
    "    json_data[\"objects\"].append(obj)"
   ]
  },
  {
   "cell_type": "code",
   "execution_count": 28,
   "metadata": {},
   "outputs": [
    {
     "name": "stdout",
     "output_type": "stream",
     "text": [
      "JSON data written to file: c:\\Users\\Maarten\\OneDrive - KU Leuven\\2024-05 CVPR scan-to-BIM challenge\\data\\beton_levels.json\n"
     ]
    }
   ],
   "source": [
    "#write this information to the 3D detection json\n",
    "with open(json_output_path, \"w\") as json_file:\n",
    "    json.dump(json_data, json_file, indent=4)\n",
    "print(\"JSON data written to file:\", json_output_path)"
   ]
  }
 ],
 "metadata": {
  "kernelspec": {
   "display_name": "geomapi_installed",
   "language": "python",
   "name": "python3"
  },
  "language_info": {
   "codemirror_mode": {
    "name": "ipython",
    "version": 3
   },
   "file_extension": ".py",
   "mimetype": "text/x-python",
   "name": "python",
   "nbconvert_exporter": "python",
   "pygments_lexer": "ipython3",
   "version": "3.10.13"
  }
 },
 "nbformat": 4,
 "nbformat_minor": 2
}
