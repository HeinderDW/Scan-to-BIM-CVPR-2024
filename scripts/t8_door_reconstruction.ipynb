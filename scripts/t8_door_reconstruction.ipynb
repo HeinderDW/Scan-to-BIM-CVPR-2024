{
 "cells": [
  {
   "cell_type": "code",
   "execution_count": 1,
   "metadata": {},
   "outputs": [
    {
     "name": "stdout",
     "output_type": "stream",
     "text": [
      "Jupyter environment detected. Enabling Open3D WebVisualizer.\n",
      "[Open3D INFO] WebRTC GUI backend enabled.\n",
      "[Open3D INFO] WebRTCWindowSystem: HTTP handshake server disabled.\n"
     ]
    }
   ],
   "source": [
    "#IMPORT PACKAGES\n",
    "from rdflib import Graph\n",
    "import rdflib\n",
    "import os.path\n",
    "import importlib\n",
    "from pathlib import Path\n",
    "import numpy as np\n",
    "import xml.etree.ElementTree as ET\n",
    "import open3d as o3d\n",
    "import uuid    \n",
    "import pye57 \n",
    "import ifcopenshell\n",
    "import ifcopenshell.geom as geom\n",
    "import ifcopenshell.util\n",
    "from ifcopenshell.util.selector import Selector\n",
    "import multiprocessing\n",
    "import random as rd\n",
    "import pandas as pd\n",
    "# from tabulate import tabulate\n",
    "import cv2\n",
    "import laspy\n",
    "import json\n",
    "from scipy.spatial.transform import Rotation   \n",
    "import copy\n",
    "import geomapi\n",
    "from geomapi.nodes import *\n",
    "import geomapi.utils as ut\n",
    "from geomapi.utils import geometryutils as gmu\n",
    "import geomapi.tools as tl\n",
    "from scipy.linalg import orthogonal_procrustes\n",
    "import matplotlib.pyplot as plt\n",
    "import geomapi.tools.progresstools as pt\n"
   ]
  },
  {
   "cell_type": "code",
   "execution_count": 2,
   "metadata": {},
   "outputs": [],
   "source": [
    "%load_ext autoreload"
   ]
  },
  {
   "cell_type": "code",
   "execution_count": 3,
   "metadata": {},
   "outputs": [],
   "source": [
    "%autoreload 2"
   ]
  },
  {
   "cell_type": "markdown",
   "metadata": {},
   "source": [
    "## INPUTS"
   ]
  },
  {
   "cell_type": "code",
   "execution_count": 4,
   "metadata": {},
   "outputs": [],
   "source": [
    "name='beton'\n",
    "\n",
    "path=Path(os.getcwd()).parents[2]/'data'\n",
    "pcd_input_path=os.path.join(path,f'{name}_labels.laz')\n",
    "class_file=path/'_classes.json'\n",
    "\n",
    "# name=name.split('_')[0]\n",
    "# json_output_path=os.path.join(path,f'{name}_walls.json') \n",
    "# geometry_output_path= os.path.join(path,f'{name}_walls.obj') # these are the bounding surfaces of the reference levels (optional)\n",
    "\n",
    "#bimfolder\n",
    "# bimFolder=os.mkdir(path/name/'BIM')\n",
    "graphPath=str(path/f'{name}Graph.ttl')\n",
    "\n",
    "#thresholds\n",
    "# t_level=0.5\n",
    "# t_distance=0.7\n",
    "# t_thickness=0.12\n",
    "# t_topology=5\n",
    "# t_intersection=0.5\n",
    "# t_orthogonal=0.5\n",
    "# t_topo_floors_ceilings=False\n",
    "\n",
    "grid_resolution = 0.01"
   ]
  },
  {
   "cell_type": "markdown",
   "metadata": {},
   "source": [
    "Import Classes"
   ]
  },
  {
   "cell_type": "code",
   "execution_count": 5,
   "metadata": {},
   "outputs": [
    {
     "name": "stdout",
     "output_type": "stream",
     "text": [
      "{'classes': [{'name': 'Unassigned', 'id': 255, 'temp_id': -1, 'color': '#9da2ab'}, {'name': 'Floors', 'id': 0, 'temp_id': 0, 'color': '#03c2fc'}, {'name': 'Ceilings', 'id': 1, 'temp_id': 1, 'color': '#e81416'}, {'name': 'Walls', 'id': 2, 'temp_id': 2, 'color': '#ffa500'}, {'name': 'Columns', 'id': 3, 'temp_id': 3, 'color': '#faeb36'}, {'name': 'Doors', 'id': 4, 'temp_id': 4, 'color': '#79c314'}, {'name': 'Windows', 'id': 5, 'temp_id': 5, 'color': '#4b369d'}], 'default': 255, 'type': 'semantic_segmentation', 'format': 'kitti', 'created_with': {'name': 'Saiga', 'version': '1.0.1'}}\n"
     ]
    }
   ],
   "source": [
    "# Read the JSON file\n",
    "with open(class_file, 'r') as file:\n",
    "    json_data = json.load(file)\n",
    "\n",
    "# Create a dictionary\n",
    "class_dict = {\n",
    "    'classes': json_data['classes'],\n",
    "    'default': json_data['default'],\n",
    "    'type': json_data['type'],\n",
    "    'format': json_data['format'],\n",
    "    'created_with': json_data['created_with']\n",
    "}\n",
    "print(class_dict)"
   ]
  },
  {
   "cell_type": "markdown",
   "metadata": {},
   "source": [
    "Import Graph"
   ]
  },
  {
   "cell_type": "code",
   "execution_count": 6,
   "metadata": {},
   "outputs": [
    {
     "name": "stdout",
     "output_type": "stream",
     "text": [
      "29 wallNodes detected!\n",
      "29 wallNodes detected!\n",
      "33 ceilingsNodes detected!\n",
      "9 floorsNodes detected!\n"
     ]
    }
   ],
   "source": [
    "graph=Graph().parse(graphPath)\n",
    "nodes=tl.graph_to_nodes(graph)\n",
    "wallBIMNodes=[n for n in nodes if 'Walls' in n.subject and type(n)==BIMNode]\n",
    "wallPCDNodes=[n for n in nodes if 'Walls' in n.subject and type(n)==PointCloudNode]\n",
    "ceilingsNodes=[n for n in nodes if 'Ceilings' in n.subject and type(n)==PointCloudNode]\n",
    "floorsNodes=[n for n in nodes if 'Floors' in n.subject and type(n)==PointCloudNode]\n",
    "print(f'{len(wallBIMNodes)} wallNodes detected!')\n",
    "print(f'{len(wallPCDNodes)} wallNodes detected!')\n",
    "print(f'{len(ceilingsNodes)} ceilingsNodes detected!')\n",
    "print(f'{len(floorsNodes)} floorsNodes detected!')"
   ]
  },
  {
   "cell_type": "code",
   "execution_count": 7,
   "metadata": {},
   "outputs": [
    {
     "name": "stdout",
     "output_type": "stream",
     "text": [
      "{'_ifcPath': None, '_globalId': None, '_cartesianBounds': array([1.03779534e+05, 1.03780586e+05, 1.94668230e+05, 1.94669346e+05,\n",
      "       9.20000000e+00, 1.23800000e+01]), '_orientedBounds': array([[1.03779534e+05, 1.94669208e+05, 9.20000000e+00],\n",
      "       [1.03779534e+05, 1.94669208e+05, 1.23800000e+01],\n",
      "       [1.03780436e+05, 1.94668230e+05, 9.20000000e+00],\n",
      "       [1.03779684e+05, 1.94669346e+05, 9.20000000e+00],\n",
      "       [1.03780586e+05, 1.94668368e+05, 1.23800000e+01],\n",
      "       [1.03780586e+05, 1.94668368e+05, 9.20000000e+00],\n",
      "       [1.03779684e+05, 1.94669346e+05, 1.23800000e+01],\n",
      "       [1.03780436e+05, 1.94668230e+05, 1.23800000e+01]]), '_orientedBoundingBox': None, '_subject': rdflib.term.URIRef('file:///2_Walls_44_BIM'), '_graph': <Graph identifier=Ncda0db4bbe114b178fa16c661caa7b5d (<class 'rdflib.graph.Graph'>)>, '_graphPath': None, '_path': None, '_name': None, '_timestamp': None, '_resource': None, '_cartesianTransform': array([[1.00000000e+00, 0.00000000e+00, 0.00000000e+00, 1.03780060e+05],\n",
      "       [0.00000000e+00, 1.00000000e+00, 0.00000000e+00, 1.94668788e+05],\n",
      "       [0.00000000e+00, 0.00000000e+00, 1.00000000e+00, 1.07900000e+01],\n",
      "       [0.00000000e+00, 0.00000000e+00, 0.00000000e+00, 1.00000000e+00]]), 'type': 'https://w3id.org/v4d/core#BIMNode', 'pointCount': 8, 'base_constraint': 'file:///level_00', 'base_constraint_name': 'level_00', 'base_offset': 0.0505994576753821, 'color': '[0.45098039 0.01176471 0.61960784]', 'derivedFrom': 'file:///2_Walls_44', 'endpoint': '[1.03779609e+05 1.94669277e+05 9.20000000e+00]', 'faceCount': 12, 'height': 3.1799999999999997, 'normal': '[-0.73489722 -0.6781785  -0.        ]', 'startpoint': '[1.03780511e+05 1.94668299e+05 9.20000000e+00]', 'top_constraint': 'file:///level_00', 'top_constraint_name': 'level_00', 'top_offset': 3.230599457675382, 'wallLength': 1.3299927371738023, 'wallThickness': 0.20350508612633442}\n"
     ]
    }
   ],
   "source": [
    "print({key:value for key, value in wallBIMNodes[1].__dict__.items() if not key.startswith('__') and not callable(key)})"
   ]
  },
  {
   "cell_type": "markdown",
   "metadata": {},
   "source": [
    "Import PCD"
   ]
  },
  {
   "cell_type": "code",
   "execution_count": 8,
   "metadata": {},
   "outputs": [],
   "source": [
    "laz=laspy.read(pcd_input_path)"
   ]
  },
  {
   "cell_type": "markdown",
   "metadata": {},
   "source": [
    "match point clouds with graph"
   ]
  },
  {
   "cell_type": "code",
   "execution_count": 9,
   "metadata": {},
   "outputs": [],
   "source": [
    "for n in wallPCDNodes:#+ceilingsNodes+floorsNodes: # this is quite slow because you iterate through 2 scalar fields every time\n",
    "    idx=np.where((laz['classes']==n.class_id) & (laz['objects']==n.object_id))\n",
    "    pcd=o3d.geometry.PointCloud()\n",
    "    pcd.points=o3d.utility.Vector3dVector(laz.xyz[idx])\n",
    "    n.resource=pcd\n",
    "    n.get_oriented_bounding_box()\n",
    "    n.orientedBoundingBox.color=[1,0,0]"
   ]
  },
  {
   "cell_type": "markdown",
   "metadata": {},
   "source": [
    "match PointCloudNodes to BIMNodes"
   ]
  },
  {
   "cell_type": "code",
   "execution_count": 10,
   "metadata": {},
   "outputs": [],
   "source": [
    "for n in wallBIMNodes:\n",
    "    n.derivedFrom = next(p for p in wallPCDNodes if p.subject.toPython() in [w.derivedFrom for w in wallBIMNodes])"
   ]
  },
  {
   "cell_type": "code",
   "execution_count": 11,
   "metadata": {},
   "outputs": [],
   "source": [
    "joined_pcd=gmu.join_geometries([n.resource.paint_uniform_color(ut.literal_to_array(n.color)) for n in wallPCDNodes if n.resource is not None])\n",
    "o3d.visualization.draw_geometries([joined_pcd])"
   ]
  },
  {
   "cell_type": "markdown",
   "metadata": {},
   "source": [
    "Import Reference Levels"
   ]
  },
  {
   "cell_type": "code",
   "execution_count": 12,
   "metadata": {},
   "outputs": [
    {
     "name": "stdout",
     "output_type": "stream",
     "text": [
      "1 levelNodes detected!\n"
     ]
    }
   ],
   "source": [
    "levelNodes=[n for n in nodes if 'level' in n.subject]\n",
    "referenceNodes=[]\n",
    "for l in levelNodes:\n",
    "    new_graph=ut.get_subject_graph(graph,levelNodes[0].subject)\n",
    "    n=SessionNode(graph=new_graph)\n",
    "    n.get_oriented_bounding_box()\n",
    "    n.resource=o3d.geometry.TriangleMesh.create_from_oriented_bounding_box(n.orientedBoundingBox)\n",
    "    referenceNodes.append(n) # something is wrong in the tl.graph_to_nodes function\n",
    "levelNodes=referenceNodes\n",
    "print(f'{len(levelNodes)} levelNodes detected!')"
   ]
  },
  {
   "cell_type": "markdown",
   "metadata": {},
   "source": [
    "Import ceilings and floors"
   ]
  },
  {
   "cell_type": "code",
   "execution_count": 25,
   "metadata": {},
   "outputs": [
    {
     "name": "stdout",
     "output_type": "stream",
     "text": [
      "[]\n"
     ]
    }
   ],
   "source": [
    "print(levelNodes[0].linkedNodes)"
   ]
  },
  {
   "cell_type": "code",
   "execution_count": 13,
   "metadata": {},
   "outputs": [],
   "source": [
    "for n in ceilingsNodes+floorsNodes: # this is quite slow because you iterate through 2 scalar fields every time\n",
    "    idx=np.where((laz['classes']==n.class_id) & (laz['objects']==n.object_id))\n",
    "    pcd=o3d.geometry.PointCloud()\n",
    "    pcd.points=o3d.utility.Vector3dVector(laz.xyz[idx])\n",
    "    n.resource=pcd\n",
    "    n.get_oriented_bounding_box()\n",
    "    n.orientedBoundingBox.color=[1,1,0]"
   ]
  },
  {
   "cell_type": "markdown",
   "metadata": {},
   "source": [
    "## PROCESSING"
   ]
  },
  {
   "cell_type": "markdown",
   "metadata": {},
   "source": [
    "Convert dtrings from the graph to arrays"
   ]
  },
  {
   "cell_type": "code",
   "execution_count": 14,
   "metadata": {},
   "outputs": [],
   "source": [
    "for n in wallBIMNodes:\n",
    "    n.startpoint = np.asarray(n.startpoint[1:-1].split(), dtype=float)\n",
    "    n.endpoint = np.asarray(n.endpoint[1:-1].split(), dtype=float)\n",
    "    n.normal = np.asarray(n.normal[1:-1].split(), dtype=float)\n",
    "    n.height = float(n.height)\n",
    "\n",
    "    "
   ]
  },
  {
   "cell_type": "code",
   "execution_count": 15,
   "metadata": {},
   "outputs": [],
   "source": [
    "def points_on_line(point1, point2, step_size):\n",
    "    \"\"\"\n",
    "    Generate points on a line between two given points with a specified step size.\n",
    "\n",
    "    Parameters:\n",
    "    - point1: The starting point of the line.\n",
    "    - point2: The ending point of the line.\n",
    "    - step_size: The step size between consecutive points.\n",
    "\n",
    "    Returns:\n",
    "    - points: A list of points on the line.\n",
    "    \"\"\"\n",
    "    # Calculate the direction vector\n",
    "    direction = point2 - point1\n",
    "\n",
    "    # Calculate the length of the line segment\n",
    "    length = np.linalg.norm(direction)\n",
    "\n",
    "    # Normalize the direction vector\n",
    "    direction /= length\n",
    "\n",
    "    # Calculate the number of steps needed\n",
    "    num_steps = int(length / step_size)\n",
    "\n",
    "    # Generate points along the line\n",
    "    points = np.array([point1 + i * step_size * direction for i in range(num_steps + 1)])\n",
    "\n",
    "    return points\n",
    "\n",
    "def plot_points_and_line(points):\n",
    "    \"\"\"\n",
    "    Plot points and the line connecting them.\n",
    "\n",
    "    Parameters:\n",
    "        points (np.array): Array of points in the format [[x1, y1, z1], [x2, y2, z2], ...].\n",
    "    \"\"\"\n",
    "    # Convert points to numpy array for easier calculations\n",
    "    points = np.array(points)\n",
    "\n",
    "    # Plot points\n",
    "    fig = plt.figure()\n",
    "    ax = fig.add_subplot(111, projection='3d')\n",
    "    ax.scatter(points[:, 0], points[:, 1], points[:, 2], color='b', label='Points')\n",
    "\n",
    "    # Plot line connecting points\n",
    "    ax.plot(points[:, 0], points[:, 1], points[:, 2], color='r', label='Line')\n",
    "\n",
    "    # Set labels and legend\n",
    "    ax.set_xlabel('X')\n",
    "    ax.set_ylabel('Y')\n",
    "    ax.set_zlabel('Z')\n",
    "    ax.legend()\n",
    "\n",
    "    # Make the plot zoomable\n",
    "    # Set 3D rotation mode\n",
    "    ax.view_init(elev=20, azim=45)\n",
    "\n",
    "    plt.show()\n",
    "\n"
   ]
  },
  {
   "cell_type": "code",
   "execution_count": 16,
   "metadata": {},
   "outputs": [],
   "source": [
    "pcds = []\n",
    "\n",
    "\n",
    "for n in wallBIMNodes:#[14:15]:\n",
    "    \n",
    "    length = np.sqrt(np.sum((n.endpoint - n.startpoint)**2))\n",
    "    surface = length * n.height\n",
    "    image_size = (int(length / grid_resolution)+1, int(n.height / grid_resolution))\n",
    "\n",
    "    if not surface < 3 and n.height > 1.5 and length > 0.9:\n",
    "\n",
    "        min_z = np.min([n.endpoint[2], n.startpoint[2]])\n",
    "        max_z = min_z + n.height\n",
    "        num_z_steps = int(n.height / grid_resolution)\n",
    "        z_grid = np.linspace(min_z, max_z, num_z_steps)  # Adjust the number of grid points as needed\n",
    "        xyz_grid = []\n",
    "        for z in z_grid:\n",
    "            start = n.startpoint.copy()\n",
    "            end =  n.endpoint.copy()\n",
    "            start[2] = z\n",
    "            end[2] = z\n",
    "            xyz_grid.append(points_on_line(start, end, grid_resolution))\n",
    "\n",
    "        grid_center = np.asarray(xyz_grid).reshape((-1, 3), order='C') \n",
    "\n",
    "       # Create Open3D point cloud\n",
    "        grid_center_pcd = o3d.geometry.PointCloud()\n",
    "        grid_center_pcd.points = o3d.utility.Vector3dVector(np.asarray(grid_center))\n",
    "        grid_center_pcd.paint_uniform_color([1,0,0])\n",
    "\n",
    "        #In face is the dominant side of the wall\n",
    "        grid_in = grid_center + n.normal\n",
    "        # grid_in_pcd = o3d.geometry.PointCloud()\n",
    "        # grid_in_pcd.points = o3d.utility.Vector3dVector(np.asarray(grid_in))\n",
    "        # grid_in_pcd.paint_uniform_color([0,1,0])\n",
    "\n",
    "        #out face is the other side of the dominant side\n",
    "        grid_out = grid_center - n.normal\n",
    "        # grid_out_pcd = o3d.geometry.PointCloud()\n",
    "        # grid_out_pcd.points = o3d.utility.Vector3dVector(np.asarray(grid_out))\n",
    "        # grid_out_pcd.paint_uniform_color([0,1,0])\n",
    "\n",
    "        #create rays for the in side (towards the dominant side\n",
    "        # Calculate the corresponding values using the given formula\n",
    "        ori_x = n.normal[0] * np.ones(len(grid_center))\n",
    "        ori_y = n.normal[1] * np.ones(len(grid_center))\n",
    "        ori_z = n.normal[2] * np.ones(len(grid_center))\n",
    "        \n",
    "        pos_x = grid_in[:,0]\n",
    "        pos_y = grid_in[:,1]\n",
    "        pos_z = grid_in[:,2]\n",
    "\n",
    "        # Stack the calculated values along the third axis to create the grid\n",
    "        rays_in_values = np.stack((pos_x, pos_y, pos_z, -ori_x, -ori_y, -ori_z), axis=1)\n",
    "        rays_in_tensor = o3d.core.Tensor(rays_in_values, dtype=o3d.core.Dtype.Float32)\n",
    "\n",
    "        pos_x = grid_out[:,0]\n",
    "        pos_y = grid_out[:,1]\n",
    "        pos_z = grid_out[:,2]\n",
    "\n",
    "        rays_out_values = np.stack((pos_x, pos_y, pos_z, ori_x, ori_y, ori_z), axis=1)\n",
    "        rays_out_tensor = o3d.core.Tensor(rays_out_values, dtype=o3d.core.Dtype.Float32)\n",
    "\n",
    "        octree=pt.pcd_to_octree(n.derivedFrom.resource,6) #if octree is None else octree\n",
    "        mesh=gmu.octree_to_voxelmesh(octree) #if mesh is None else mesh\n",
    "\n",
    "        # # Create raycasting scene\n",
    "        scene = o3d.t.geometry.RaycastingScene()\n",
    "        reference=o3d.t.geometry.TriangleMesh.from_legacy(mesh)\n",
    "\n",
    "        # Add mesh to the scene\n",
    "        scene.add_triangles(reference)  \n",
    "        ans_in = scene.cast_rays(rays_in_tensor)\n",
    "        ans_out = scene.cast_rays(rays_out_tensor)\n",
    "\n",
    "        hits_in = ans_in['t_hit'].numpy()\n",
    "        hits_out = ans_out['t_hit'].numpy()\n",
    "\n",
    "        colors = np.zeros((len(hits_in), 3))\n",
    "        hole_points = []\n",
    "        \n",
    "        for i, c in enumerate(colors):\n",
    "            if hits_in[i] <2 and hits_out[i] < 2:\n",
    "                colors[i] = [0.5,0.5,0.5]\n",
    "                thickness = 2-hits_out[i]-hits_in[i]\n",
    "                if 0.02 > thickness < 0.1:\n",
    "                    colors[i] = [1,0,0]\n",
    "            elif hits_in[i] <5 or hits_out[i] < 5:\n",
    "                colors[i] = [1,0.6,0]\n",
    "            else:\n",
    "                colors[i] = [0,1,0]\n",
    "                hole_points.append(grid_center[i])\n",
    "    \n",
    "        grid_center_pcd.colors =o3d.utility.Vector3dVector(np.asarray(colors))\n",
    "        hole_pcd = o3d.geometry.PointCloud()\n",
    "        hole_pcd.points = o3d.utility.Vector3dVector(np.asarray(hole_points))\n",
    "\n",
    "        # # o3d.visualization.draw_geometries([grid_center_pcd])\n",
    "        # # o3d.visualization.draw_geometries([hole_pcd])\n",
    "        hole_pcd.paint_uniform_color([0.5,0.5,0.5])\n",
    "        \n",
    "        new_pcd, ind = hole_pcd.remove_radius_outlier(nb_points = 100, radius = 0.1)\n",
    "        # # Assuming you have the color array and the index list 'ind'\n",
    "        # colors = np.asarray(hole_pcd.colors)\n",
    "\n",
    "        # # Create a mask for points in 'ind'\n",
    "        # mask = np.isin(np.arange(len(colors)), ind)\n",
    "\n",
    "        # # Create an array of default colors ([0, 1, 0])\n",
    "        # default_color = np.array([1, 0, 0])\n",
    "\n",
    "        # # Create an array of colors for points in 'ind' ([1, 0, 0])\n",
    "        # color_for_ind = np.array([0, 1, 0])\n",
    "\n",
    "        # # Use np.where to efficiently assign colors based on the mask\n",
    "        # colors = np.where(mask[:, np.newaxis], color_for_ind, default_color)\n",
    "\n",
    "        # hole_pcd.colors =o3d.utility.Vector3dVector(np.asarray(colors))\n",
    "\n",
    "        # # o3d.visualization.draw_geometries([hole_pcd])\n",
    "\n",
    "        pcds.append([new_pcd, n])\n",
    "    \n",
    "\n",
    "o3d.visualization.draw_geometries([pcd[0] for pcd in pcds])"
   ]
  },
  {
   "cell_type": "code",
   "execution_count": 20,
   "metadata": {},
   "outputs": [],
   "source": [
    "o3d.visualization.draw_geometries([pcd[0] for pcd in pcds])"
   ]
  },
  {
   "cell_type": "code",
   "execution_count": 17,
   "metadata": {},
   "outputs": [],
   "source": [
    "from sklearn.cluster import DBSCAN"
   ]
  },
  {
   "cell_type": "code",
   "execution_count": 22,
   "metadata": {},
   "outputs": [],
   "source": [
    "clusterd_pcds =[]\n",
    "for potential_door in pcds:\n",
    "    # Load your point cloud\n",
    "    pcd = potential_door[0]\n",
    "\n",
    "    # Convert point cloud to numpy array\n",
    "    points = np.asarray(pcd.points)\n",
    "\n",
    "    # Perform clustering using DBSCAN\n",
    "    eps = 0.2  # Distance threshold for DBSCAN\n",
    "    min_samples = 1200  # Minimum number of points in a cluster\n",
    "    dbscan = DBSCAN(eps=eps, min_samples=min_samples)\n",
    "    labels = dbscan.fit_predict(points)\n",
    "\n",
    "    # # Number of clusters, ignoring noise if present (-1 label)\n",
    "    # n_clusters = len(set(labels)) - (1 if -1 in labels else 0)\n",
    "    # print(f\"Number of clusters: {n_clusters}\")\n",
    "\n",
    "    # # Assign colors to points based on cluster labels\n",
    "    # colors = np.zeros_like(points)\n",
    "    # for i, label in enumerate(labels):\n",
    "    #     if label == -1:  # Noise points\n",
    "    #         colors[i] = [0.5, 0.5, 0.5]  # Gray color for noise\n",
    "    #     else:\n",
    "    #         colors[i] = plt.cm.tab20(label % 20)[:3]  # Use a colormap for distinct cluster colors\n",
    "\n",
    "    # # Create a new colored point cloud\n",
    "    # colored_pcd = o3d.geometry.PointCloud()\n",
    "    # colored_pcd.points = o3d.utility.Vector3dVector(points)\n",
    "    # colored_pcd.colors = o3d.utility.Vector3dVector(colors)\n",
    "    # colored_pcds.append(colored_pcd)\n",
    "\n",
    "    # Extract unique cluster labels (excluding noise label -1)\n",
    "    unique_labels = np.unique(labels[labels != -1])\n",
    "\n",
    "    # Iterate over each cluster label and save corresponding points to a separate point cloud\n",
    "    for label in unique_labels:\n",
    "        cluster_points = points[labels == label]\n",
    "        cluster_pcd = o3d.geometry.PointCloud()\n",
    "        cluster_pcd.points = o3d.utility.Vector3dVector(cluster_points)\n",
    "\n",
    "        clusterd_pcds.append([cluster_pcd, potential_door[1]])\n",
    "\n",
    "# Visualize the colored point cloud\n",
    "o3d.visualization.draw_geometries([pcd[0] for pcd in clusterd_pcds])\n"
   ]
  },
  {
   "cell_type": "code",
   "execution_count": 21,
   "metadata": {},
   "outputs": [],
   "source": [
    "o3d.visualization.draw_geometries([pcd[0] for pcd in clusterd_pcds])"
   ]
  },
  {
   "cell_type": "code",
   "execution_count": 23,
   "metadata": {},
   "outputs": [
    {
     "name": "stdout",
     "output_type": "stream",
     "text": [
      "Opening Width: 0.9499999999943601\n",
      "window\n",
      "Opening Width: 0.7299999999890296\n",
      "Opening\n",
      "Clutter\n",
      "Clutter\n",
      "Opening Width: 0.6600000000121027\n",
      "Opening\n",
      "Opening Width: 1.03000000000596\n",
      "door\n",
      "Clutter\n",
      "Opening Width: 2.0300000000079215\n",
      "window\n",
      "Clutter\n",
      "Opening Width: 0.8800000000073913\n",
      "Opening\n",
      "Opening Width: 6.680000000001135\n",
      "window\n",
      "Opening Width: 4.279999999979334\n",
      "window\n",
      "Opening Width: 1.1600000000043096\n",
      "door\n",
      "Opening Width: 1.0700000000016654\n",
      "door\n",
      "Opening Width: 1.3000000000007121\n",
      "door\n",
      "Opening Width: 1.0199999999897549\n",
      "door\n",
      "Opening Width: 0.8000000000003551\n",
      "door\n",
      "Opening Width: 1.3900000000092085\n",
      "window\n",
      "Opening Width: 0.9899999999954394\n",
      "door\n",
      "Clutter\n",
      "Opening Width: 1.389999999996111\n",
      "door\n",
      "Opening Width: 1.3699999999908943\n",
      "Opening\n",
      "Clutter\n",
      "Opening Width: 0.5000000000007794\n",
      "Opening\n",
      "Opening Width: 2.5599999999923617\n",
      "door\n",
      "Opening Width: 5.469999999987767\n",
      "window\n",
      "Opening Width: 0.4500000000182385\n",
      "Clutter\n",
      "Opening Width: 1.5499999999994767\n",
      "door\n",
      "Clutter\n",
      "Opening Width: 8.829999999992255\n",
      "Opening\n",
      "Opening Width: 9.380000000006374\n",
      "window\n",
      "Opening Width: 1.8899999999979642\n",
      "door\n",
      "Opening Width: 0.8900000000006837\n",
      "door\n",
      "Opening Width: 3.000000000007335\n",
      "window\n",
      "Opening Width: 1.5499999999914202\n",
      "door\n",
      "Opening Width: 0.6399999999914707\n",
      "window\n",
      "Opening Width: 0.6800000000059363\n",
      "Opening\n",
      "Clutter\n",
      "Opening Width: 1.4299999999832396\n",
      "door\n",
      "Opening Width: 2.809999999987638\n",
      "Opening\n",
      "Opening Width: 1.4599999999932605\n",
      "Opening\n",
      "Opening Width: 0.7499999999898862\n",
      "window\n",
      "Clutter\n",
      "Clutter\n",
      "Opening Width: 14.990000000000101\n",
      "Opening\n",
      "Clutter\n"
     ]
    }
   ],
   "source": [
    "from itertools import combinations\n",
    "\n",
    "t_door_level = 0.5 #Offest tov level base contraint\n",
    "t_min_door_width = 0.8\n",
    "t_max_door_width = 3\n",
    "t_min_door_height = 1.6\n",
    "t_max_door_height = 2.5\n",
    "t_min_door_opp = 1.8\n",
    "\n",
    "t_window_level = 2\n",
    "t_min_window_width = 0.5\n",
    "t_max_window_width = 10\n",
    "t_min_window_height = 0.5\n",
    "t_max_window_height = 10\n",
    "t_min_window_opp = 1\n",
    "\n",
    "\n",
    "t_min_opening_width = 0.5\n",
    "t_min_opening_height = 0.5\n",
    "t_points = 2000\n",
    "\n",
    "\n",
    "potential_doors =[]\n",
    "for potential_door in clusterd_pcds: \n",
    "    pcd = potential_door[0]\n",
    "    n = potential_door[1]\n",
    "    n.base_constraint = next(l for l in levelNodes if l.subject.toPython() in [w.base_constraint for w in wallBIMNodes])\n",
    "\n",
    "    # Extract the z-coordinates\n",
    "    points = np.asarray(pcd.points)\n",
    "    if not len(points) <5000:\n",
    "        z_values = points[:, 2]\n",
    "        unique_z_values = np.unique(z_values)\n",
    "\n",
    "        #Compute the width of the door\n",
    "        max_width = 0.0\n",
    "        min_width = 0.0\n",
    "\n",
    "        for z_value in unique_z_values:\n",
    "            # Get points with the current z-value\n",
    "            points_with_same_z = points[z_values == z_value]\n",
    "\n",
    "            # Find the outermost points based on XY coordinates\n",
    "            min_x = np.min(points_with_same_z[:, 0])\n",
    "            max_x = np.max(points_with_same_z[:, 0])\n",
    "            min_y = np.min(points_with_same_z[:, 1])\n",
    "            max_y = np.max(points_with_same_z[:, 1])\n",
    "\n",
    "            # Compute the diagonal length of the bounding box\n",
    "            diagonal_length = np.linalg.norm([max_x - min_x, max_y - min_y])\n",
    "\n",
    "            if diagonal_length > max_width:\n",
    "                max_width = diagonal_length\n",
    "                \n",
    "        print(\"Opening Width:\", max_width)\n",
    "\n",
    "        #Compute the Height of the door\n",
    "        lowest_z = np.min(z_values)\n",
    "        highest_z = np.max(z_values)\n",
    "        max_height = highest_z - lowest_z            \n",
    "\n",
    "        opening_surface = max_height * max_width\n",
    "\n",
    "        if n.base_constraint.height-t_door_level < lowest_z < n.base_constraint.height+t_door_level and t_min_door_width < max_width < t_max_door_width and t_min_door_height < max_height < t_max_door_height and opening_surface>t_min_door_opp:\n",
    "            pcd.paint_uniform_color([0,1,0])\n",
    "            potential_doors.append(pcd)\n",
    "            print(\"door\")\n",
    "        elif n.base_constraint.height-t_window_level < lowest_z < n.base_constraint.height+t_window_level and t_min_window_width < max_width < t_max_window_width and t_min_window_height < max_height < t_max_window_height and opening_surface>t_min_window_opp:\n",
    "            pcd.paint_uniform_color([0,0,1])\n",
    "            potential_doors.append(pcd)\n",
    "            print(\"window\")\n",
    "        elif t_min_opening_width < max_width and t_min_opening_height < max_height :\n",
    "            pcd.paint_uniform_color([0.5,0.5,0.5])\n",
    "            print(\"Opening\")\n",
    "            potential_doors.append(pcd)\n",
    "        else: \n",
    "            print(\"Clutter\")\n",
    "            pcd.paint_uniform_color([1,0,0])\n",
    "            potential_doors.append(pcd)\n",
    "    else: \n",
    "            print(\"Clutter\")\n",
    "            pcd.paint_uniform_color([1,0,0])\n",
    "            potential_doors.append(pcd)\n",
    "\n",
    "o3d.visualization.draw_geometries(potential_doors)\n"
   ]
  },
  {
   "cell_type": "code",
   "execution_count": null,
   "metadata": {},
   "outputs": [],
   "source": []
  },
  {
   "cell_type": "code",
   "execution_count": null,
   "metadata": {},
   "outputs": [],
   "source": []
  }
 ],
 "metadata": {
  "kernelspec": {
   "display_name": "CVPR2",
   "language": "python",
   "name": "python3"
  },
  "language_info": {
   "codemirror_mode": {
    "name": "ipython",
    "version": 3
   },
   "file_extension": ".py",
   "mimetype": "text/x-python",
   "name": "python",
   "nbconvert_exporter": "python",
   "pygments_lexer": "ipython3",
   "version": "3.10.0"
  }
 },
 "nbformat": 4,
 "nbformat_minor": 2
}
