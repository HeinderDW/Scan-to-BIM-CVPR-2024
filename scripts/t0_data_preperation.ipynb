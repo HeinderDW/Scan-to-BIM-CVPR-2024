{
 "cells": [
  {
   "cell_type": "markdown",
   "metadata": {},
   "source": [
    "# T0. PREPARE POINT CLOUDS\n",
    "\n",
    "Import and prepare point clouds for semantic segmentation, instance segmentation, etc.\n",
    "To run these scripts, create a python 3.10 environment & install geomapi (numpy, opend3d, ifcopenshell, trimesh, ...)"
   ]
  },
  {
   "cell_type": "markdown",
   "metadata": {},
   "source": [
    "## LIBRARIES"
   ]
  },
  {
   "cell_type": "code",
   "execution_count": 22,
   "metadata": {},
   "outputs": [],
   "source": [
    "#IMPORT PACKAGES\n",
    "from rdflib import Graph, URIRef\n",
    "import os.path\n",
    "import importlib\n",
    "from pathlib import Path\n",
    "import numpy as np\n",
    "import xml.etree.ElementTree as ET\n",
    "import open3d as o3d\n",
    "import uuid    \n",
    "import pye57 \n",
    "import ifcopenshell\n",
    "import ifcopenshell.geom as geom\n",
    "import ifcopenshell.util\n",
    "from ifcopenshell.util.selector import Selector\n",
    "import multiprocessing\n",
    "import random as rd\n",
    "import pandas as pd\n",
    "# from tabulate import tabulate\n",
    "import cv2\n",
    "import laspy\n",
    "import time\n",
    "import json\n",
    "from scipy.spatial.transform import Rotation   \n",
    "import copy\n",
    "from datetime import datetime\n",
    "\n",
    "import geomapi\n",
    "from geomapi.nodes import *\n",
    "import geomapi.utils as ut\n",
    "from geomapi.utils import geometryutils as gmu\n",
    "from geomapi.tools import progresstools as pt\n",
    "\n",
    "import geomapi.tools as tl\n",
    "\n",
    "#import utils\n",
    "from context import utils\n",
    "import utils as utl\n",
    "import utils.t1_utils as t1\n"
   ]
  },
  {
   "cell_type": "code",
   "execution_count": 23,
   "metadata": {},
   "outputs": [
    {
     "name": "stdout",
     "output_type": "stream",
     "text": [
      "The autoreload extension is already loaded. To reload it, use:\n",
      "  %reload_ext autoreload\n"
     ]
    }
   ],
   "source": [
    "%load_ext autoreload"
   ]
  },
  {
   "cell_type": "code",
   "execution_count": 24,
   "metadata": {},
   "outputs": [],
   "source": [
    "%autoreload 2"
   ]
  },
  {
   "cell_type": "markdown",
   "metadata": {},
   "source": [
    "## INPUTS"
   ]
  },
  {
   "cell_type": "code",
   "execution_count": 25,
   "metadata": {},
   "outputs": [],
   "source": [
    "start_time = time.time()"
   ]
  },
  {
   "cell_type": "code",
   "execution_count": 44,
   "metadata": {},
   "outputs": [],
   "source": [
    "name='beton'\n",
    "\n",
    "path=Path(os.getcwd()).parents[2]/'data'\n",
    "# pcd_input_path=os.path.join(path,f'{name}.laz')\n",
    "pcd_input_folder=os.path.join(path,'beton') \n",
    "class_file=path/'_classes.json'\n",
    "pcd_output_path= os.path.join(path,f'{name}_labels.laz') \n",
    "objects_output_path=os.path.join(path,f'{name}_objects.json') \n",
    "\n",
    "distance_threshold=0.1 #! transfer distance threshold\n"
   ]
  },
  {
   "cell_type": "markdown",
   "metadata": {},
   "source": [
    "Import PCD"
   ]
  },
  {
   "cell_type": "code",
   "execution_count": 45,
   "metadata": {},
   "outputs": [
    {
     "name": "stdout",
     "output_type": "stream",
     "text": [
      "c:/Users/Maarten/OneDrive - KU Leuven/2024-05 CVPR scan-to-BIM challenge/data/beton/-1_rest.las\n",
      "c:/Users/Maarten/OneDrive - KU Leuven/2024-05 CVPR scan-to-BIM challenge/data/beton/0_Floors.las\n",
      "c:/Users/Maarten/OneDrive - KU Leuven/2024-05 CVPR scan-to-BIM challenge/data/beton/1_Ceilings.las\n",
      "c:/Users/Maarten/OneDrive - KU Leuven/2024-05 CVPR scan-to-BIM challenge/data/beton/2_Walls.las\n",
      "c:/Users/Maarten/OneDrive - KU Leuven/2024-05 CVPR scan-to-BIM challenge/data/beton/3_Columns.las\n",
      "c:/Users/Maarten/OneDrive - KU Leuven/2024-05 CVPR scan-to-BIM challenge/data/beton/4_doors.las\n",
      "['X', 'Y', 'Z', 'intensity', 'return_number', 'number_of_returns', 'scan_direction_flag', 'edge_of_flight_line', 'classification', 'synthetic', 'key_point', 'withheld', 'scan_angle_rank', 'user_data', 'point_source_id', 'red', 'green', 'blue', 'Original cloud index']\n",
      "85 pcdNodes created!\n"
     ]
    }
   ],
   "source": [
    "pcdNodes=[]\n",
    "for f in [l for l in ut.get_list_of_files(pcd_input_folder) if l.endswith('.las')]: # cluster the remainder\n",
    "    \n",
    "    #read pcd\n",
    "    print(f)\n",
    "    las=laspy.read(f)\n",
    "    \n",
    "    #split into components\n",
    "    if 'Original cloud index' in list(las.point_format.dimension_names):\n",
    "        pcds,_=gmu.split_pcd_by_labels(gmu.las_to_pcd(las),las['Original cloud index'])   #object\n",
    "    else:\n",
    "        pcds= [gmu.las_to_pcd(las)]\n",
    "    \n",
    "    #create nodes\n",
    "    for p in pcds:\n",
    "        pcdNodes.append(PointCloudNode(resource=p,\n",
    "                                        name=ut.get_filename(f),\n",
    "                                        class_id=255,\n",
    "                                        object_id=0,\n",
    "                                        color=ut.random_color()))\n",
    "print(list(las.point_format.dimension_names))\n",
    "print(f'{len(pcdNodes)} pcdNodes created!')"
   ]
  },
  {
   "cell_type": "markdown",
   "metadata": {},
   "source": [
    "Import Classes"
   ]
  },
  {
   "cell_type": "code",
   "execution_count": 46,
   "metadata": {},
   "outputs": [
    {
     "name": "stdout",
     "output_type": "stream",
     "text": [
      "{'classes': [{'name': 'Unassigned', 'id': 255, 'temp_id': -1, 'color': '#9da2ab'}, {'name': 'Floors', 'id': 0, 'temp_id': 0, 'color': '#03c2fc'}, {'name': 'Ceilings', 'id': 1, 'temp_id': 1, 'color': '#e81416'}, {'name': 'Walls', 'id': 2, 'temp_id': 2, 'color': '#ffa500'}, {'name': 'Columns', 'id': 3, 'temp_id': 3, 'color': '#faeb36'}, {'name': 'Doors', 'id': 4, 'temp_id': 4, 'color': '#79c314'}, {'name': 'Windows', 'id': 5, 'temp_id': 5, 'color': '#4b369d'}], 'default': 255, 'type': 'semantic_segmentation', 'format': 'kitti', 'created_with': {'name': 'Saiga', 'version': '1.0.1'}}\n"
     ]
    }
   ],
   "source": [
    "# Read the JSON file\n",
    "with open(class_file, 'r') as file:\n",
    "    json_data = json.load(file)\n",
    "\n",
    "# Create a dictionary\n",
    "class_dict = {\n",
    "    'classes': json_data['classes'],\n",
    "    'default': json_data['default'],\n",
    "    'type': json_data['type'],\n",
    "    'format': json_data['format'],\n",
    "    'created_with': json_data['created_with']\n",
    "}\n",
    "print(class_dict)"
   ]
  },
  {
   "cell_type": "markdown",
   "metadata": {},
   "source": [
    "## PROCESSING"
   ]
  },
  {
   "cell_type": "markdown",
   "metadata": {},
   "source": [
    "Add segmentation classes to pcdNodes"
   ]
  },
  {
   "cell_type": "code",
   "execution_count": 47,
   "metadata": {},
   "outputs": [],
   "source": [
    "#for every pcdNode, assign class_id and material_id (if present)\n",
    "class_names = [class_obj['name'] for class_obj in json_data['classes']]\n",
    "for i,n in enumerate(pcdNodes):\n",
    "    class_id=float(n.name.split('_')[0])\n",
    " \n",
    "    #select segmantation class\n",
    "    class_obj=next((class_obj for class_obj in json_data['classes'] if float(class_obj['id']) ==class_id), json_data['classes'][0])\n",
    "    n.class_id=class_obj['id']\n",
    "    n.object_id=i\n"
   ]
  },
  {
   "cell_type": "code",
   "execution_count": 48,
   "metadata": {},
   "outputs": [
    {
     "data": {
      "text/plain": [
       "{'_e57Index': 0,\n",
       " 'pointCount': 916889,\n",
       " 'e57XmlPath': None,\n",
       " '_cartesianBounds': array([1.03772125e+05, 1.03798594e+05, 1.94649829e+05, 1.94676734e+05,\n",
       "        8.37500000e+00, 2.03540000e+01]),\n",
       " '_orientedBounds': array([[1.03788172e+05, 1.94646832e+05, 7.31253558e+00],\n",
       "        [1.03801147e+05, 1.94668996e+05, 6.82782489e+00],\n",
       "        [1.03769160e+05, 1.94658008e+05, 9.38837145e+00],\n",
       "        [1.03789291e+05, 1.94646447e+05, 1.96392990e+01],\n",
       "        [1.03783255e+05, 1.94679786e+05, 2.12304242e+01],\n",
       "        [1.03770279e+05, 1.94657622e+05, 2.17151349e+01],\n",
       "        [1.03802267e+05, 1.94668611e+05, 1.91545883e+01],\n",
       "        [1.03782136e+05, 1.94680172e+05, 8.90366075e+00]]),\n",
       " '_orientedBoundingBox': OrientedBoundingBox: center: (103786, 194663, 14.2715), extent: 25.6874, 22.1506, 12.3835),\n",
       " '_subject': rdflib.term.URIRef('file:///-1_rest'),\n",
       " '_graph': None,\n",
       " '_graphPath': None,\n",
       " '_path': None,\n",
       " '_name': '-1_rest',\n",
       " '_timestamp': None,\n",
       " '_resource': PointCloud with 916889 points.,\n",
       " '_cartesianTransform': array([[1.00000000e+00, 0.00000000e+00, 0.00000000e+00, 1.03785648e+05],\n",
       "        [0.00000000e+00, 1.00000000e+00, 0.00000000e+00, 1.94665053e+05],\n",
       "        [0.00000000e+00, 0.00000000e+00, 1.00000000e+00, 1.08195697e+01],\n",
       "        [0.00000000e+00, 0.00000000e+00, 0.00000000e+00, 1.00000000e+00]]),\n",
       " 'class_id': 255,\n",
       " 'object_id': 0,\n",
       " 'color': array([0.26666667, 0.69411765, 0.81176471])}"
      ]
     },
     "execution_count": 48,
     "metadata": {},
     "output_type": "execute_result"
    }
   ],
   "source": [
    "{key:value for key, value in pcdNodes[0].__dict__.items() if not key.startswith('__') and not callable(key)}              "
   ]
  },
  {
   "cell_type": "code",
   "execution_count": 31,
   "metadata": {},
   "outputs": [],
   "source": [
    "# #visualize\n",
    "# joined_pcd=gmu.join_geometries([n.resource.paint_uniform_color(n.color) for n in pcdNodes])\n",
    "# o3d.visualization.draw_geometries([joined_pcd])"
   ]
  },
  {
   "cell_type": "markdown",
   "metadata": {},
   "source": [
    "Compute 3D objects"
   ]
  },
  {
   "cell_type": "code",
   "execution_count": 49,
   "metadata": {},
   "outputs": [],
   "source": [
    "#extract parameters for each total_pcd_nodes\n",
    "for n in pcdNodes:\n",
    "    \n",
    "    #take points\n",
    "    points=np.asarray(n.resource.points)\n",
    "    \n",
    "    #project points in 2D\n",
    "    points2d=points[:,0:2]\n",
    "    \n",
    "    #select lowest and highest point\n",
    "    zmin=np.min(points[:,2])\n",
    "    zmax=np.max(points[:,2])\n",
    "    \n",
    "    #translate data\n",
    "    new_points=np.vstack((np.hstack((points2d,np.full((points2d.shape[0],1),zmin))),\n",
    "                          np.hstack((points2d,np.full((points2d.shape[0],1),zmax+50)))))\n",
    "    pcd=o3d.geometry.PointCloud()\n",
    "    pcd.points=o3d.utility.Vector3dVector(new_points)\n",
    "    n.box=pcd.get_oriented_bounding_box()\n",
    "    n.box.color=[1,0,0]\n",
    "    \n",
    "    n.center=[n.box.center[0],n.box.center[1],np.mean(points[:,2])]\n",
    "    n.dimensions=[n.box.extent[1],n.box.extent[2],zmax-zmin]\n",
    "    rotation_matrix=copy.deepcopy(n.box.R) #! can these angles be negative?\n",
    "    r =  Rotation.from_matrix(np.asarray(rotation_matrix))\n",
    "    n.rotations = r.as_euler(\"zyx\",degrees=True)"
   ]
  },
  {
   "cell_type": "markdown",
   "metadata": {},
   "source": [
    "## EXPORT"
   ]
  },
  {
   "cell_type": "markdown",
   "metadata": {},
   "source": [
    "las file"
   ]
  },
  {
   "cell_type": "code",
   "execution_count": 50,
   "metadata": {},
   "outputs": [],
   "source": [
    "#merge point clouds\n",
    "joined_pcd=gmu.join_geometries([n.resource for n  in pcdNodes])"
   ]
  },
  {
   "cell_type": "code",
   "execution_count": 51,
   "metadata": {},
   "outputs": [],
   "source": [
    "#obtain labels\n",
    "labels_segmentation=[]\n",
    "labels_objects=[]\n",
    "\n",
    "for i,n in enumerate(pcdNodes):\n",
    "    length=len(np.asarray(n.resource.points))\n",
    "    labels_segmentation.extend(list(np.full(length,n.class_id)))\n",
    "    labels_objects.extend(list(np.full(length,n.object_id)))  "
   ]
  },
  {
   "cell_type": "code",
   "execution_count": 52,
   "metadata": {},
   "outputs": [],
   "source": [
    "labels_segmentation=np.array([labels_segmentation])\n",
    "labels_objects=np.array([labels_objects])"
   ]
  },
  {
   "cell_type": "code",
   "execution_count": 53,
   "metadata": {},
   "outputs": [
    {
     "name": "stdout",
     "output_type": "stream",
     "text": [
      "['X', 'Y', 'Z', 'intensity', 'return_number', 'number_of_returns', 'scan_direction_flag', 'edge_of_flight_line', 'classification', 'synthetic', 'key_point', 'withheld', 'scan_angle_rank', 'user_data', 'point_source_id', 'gps_time', 'red', 'green', 'blue', 'classes', 'objects']\n"
     ]
    }
   ],
   "source": [
    "# create new las\n",
    "header = laspy.LasHeader(point_format=3, version=\"1.2\")\n",
    "las = laspy.LasData(header)\n",
    "las.xyz=np.asarray(joined_pcd.points)\n",
    "las.red=(np.asarray(joined_pcd.colors)[:,0]*65535).astype(np.uint16)\n",
    "las.green=(np.asarray(joined_pcd.colors)[:,1]*65535).astype(np.uint16)\n",
    "las.blue=(np.asarray(joined_pcd.colors)[:,2]*65535).astype(np.uint16)\n",
    "\n",
    "gmu.las_add_extra_dimensions(las,(labels_segmentation,labels_objects),['classes','objects'],['uint8','uint8'])\n",
    "print(list(las.point_format.dimension_names))"
   ]
  },
  {
   "cell_type": "code",
   "execution_count": 54,
   "metadata": {},
   "outputs": [
    {
     "name": "stdout",
     "output_type": "stream",
     "text": [
      "c:\\Users\\Maarten\\OneDrive - KU Leuven\\2024-05 CVPR scan-to-BIM challenge\\data\\beton_labels.laz\n"
     ]
    }
   ],
   "source": [
    "las.write(pcd_output_path)\n",
    "print(pcd_output_path)"
   ]
  },
  {
   "cell_type": "markdown",
   "metadata": {},
   "source": [
    "json with object labels"
   ]
  },
  {
   "cell_type": "code",
   "execution_count": 55,
   "metadata": {},
   "outputs": [],
   "source": [
    "#declare json\n",
    "#json contains class_id, material_id, object_id, box and ifcGuid + status if present\n",
    "json_data = {\n",
    "        \"filename\": ut.get_filename(objects_output_path),\n",
    "        \"objects\": []\n",
    "    }"
   ]
  },
  {
   "cell_type": "code",
   "execution_count": 57,
   "metadata": {},
   "outputs": [],
   "source": [
    "#fill json\n",
    "for n in nodes:\n",
    "    obj = {\n",
    "            \"name\": n.name,\n",
    "            \"class_id\":n.class_id,\n",
    "            \"object_id\":n.object_id,\n",
    "            \"centroid\": {\n",
    "                \"x\": n.center[0],\n",
    "                \"y\": n.center[1],\n",
    "                \"z\": n.center[2]\n",
    "            },\n",
    "            \"dimensions\": {\n",
    "                \"length\": n.dimensions[0],\n",
    "                \"width\": n.dimensions[1],\n",
    "                \"height\": n.dimensions[2]\n",
    "            },\n",
    "            \"rotations\": {\n",
    "                \"x\": 0,\n",
    "                \"y\": 0,\n",
    "                \"z\": n.rotations[0]\n",
    "            }\n",
    "            }\n",
    "    json_data[\"objects\"].append(obj)"
   ]
  },
  {
   "cell_type": "code",
   "execution_count": 58,
   "metadata": {},
   "outputs": [
    {
     "name": "stdout",
     "output_type": "stream",
     "text": [
      "JSON data written to file: c:\\Users\\Maarten\\OneDrive - KU Leuven\\2024-05 CVPR scan-to-BIM challenge\\data\\beton_objects.json\n"
     ]
    }
   ],
   "source": [
    "#write this information to the 3D detection json\n",
    "with open(objects_output_path, \"w\") as json_file:\n",
    "    json.dump(json_data, json_file, indent=4)\n",
    "print(\"JSON data written to file:\", objects_output_path)"
   ]
  },
  {
   "cell_type": "markdown",
   "metadata": {},
   "source": [
    "## FINISH"
   ]
  },
  {
   "cell_type": "code",
   "execution_count": 59,
   "metadata": {},
   "outputs": [
    {
     "name": "stdout",
     "output_type": "stream",
     "text": [
      "Current Time = 12:03:50\n",
      "runtime: --- 380.65604066848755 seconds ---\n"
     ]
    }
   ],
   "source": [
    "now = datetime.now()\n",
    "print(\"Current Time =\", now.strftime(\"%H:%M:%S\"))\n",
    "\n",
    "print(\"runtime: --- %s seconds ---\" % (time.time() - start_time))\n"
   ]
  }
 ],
 "metadata": {
  "kernelspec": {
   "display_name": "geomapi_installed",
   "language": "python",
   "name": "python3"
  },
  "language_info": {
   "codemirror_mode": {
    "name": "ipython",
    "version": 3
   },
   "file_extension": ".py",
   "mimetype": "text/x-python",
   "name": "python",
   "nbconvert_exporter": "python",
   "pygments_lexer": "ipython3",
   "version": "3.10.13"
  }
 },
 "nbformat": 4,
 "nbformat_minor": 2
}
